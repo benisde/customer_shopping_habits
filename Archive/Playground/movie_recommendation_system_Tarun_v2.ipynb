{
 "cells": [
  {
   "cell_type": "code",
   "execution_count": 6,
   "id": "fd9303f7-236a-432e-8b2c-178a864e5794",
   "metadata": {},
   "outputs": [],
   "source": [
    "import pandas as pd\n",
    "import numpy as np\n",
    "from sklearn.preprocessing import StandardScaler\n",
    "from sklearn.decomposition import PCA\n",
    "from sklearn.cluster import KMeans\n",
    "from sklearn.metrics.pairwise import cosine_similarity\n",
    "from sklearn.feature_extraction.text import TfidfVectorizer"
   ]
  },
  {
   "cell_type": "code",
   "execution_count": 8,
   "id": "6320729b-eda7-40bd-aebc-538503ddcc0c",
   "metadata": {},
   "outputs": [],
   "source": [
    "df = pd.read_csv('resources/movies_metadata.csv')"
   ]
  },
  {
   "cell_type": "code",
   "execution_count": 9,
   "id": "5d30ea69-af5b-4ab1-89ed-f8e2b9eaaa6e",
   "metadata": {},
   "outputs": [
    {
     "name": "stdout",
     "output_type": "stream",
     "text": [
      "     budget                                             genres     id  \\\n",
      "0  30000000  [{'id': 16, 'name': 'Animation'}, {'id': 35, '...    862   \n",
      "1  65000000  [{'id': 12, 'name': 'Adventure'}, {'id': 14, '...   8844   \n",
      "2         0  [{'id': 10749, 'name': 'Romance'}, {'id': 35, ...  15602   \n",
      "3  16000000  [{'id': 35, 'name': 'Comedy'}, {'id': 18, 'nam...  31357   \n",
      "4         0                     [{'id': 35, 'name': 'Comedy'}]  11862   \n",
      "\n",
      "  original_language               original_title  \\\n",
      "0                en                    Toy Story   \n",
      "1                en                      Jumanji   \n",
      "2                en             Grumpier Old Men   \n",
      "3                en            Waiting to Exhale   \n",
      "4                en  Father of the Bride Part II   \n",
      "\n",
      "                                            overview  popularity  \\\n",
      "0  Led by Woody, Andy's toys live happily in his ...   21.946943   \n",
      "1  When siblings Judy and Peter discover an encha...   17.015539   \n",
      "2  A family wedding reignites the ancient feud be...   11.712900   \n",
      "3  Cheated on, mistreated and stepped on, the wom...    3.859495   \n",
      "4  Just when George Banks has recovered from his ...    8.387519   \n",
      "\n",
      "                                production_companies  \\\n",
      "0     [{'name': 'Pixar Animation Studios', 'id': 3}]   \n",
      "1  [{'name': 'TriStar Pictures', 'id': 559}, {'na...   \n",
      "2  [{'name': 'Warner Bros.', 'id': 6194}, {'name'...   \n",
      "3  [{'name': 'Twentieth Century Fox Film Corporat...   \n",
      "4  [{'name': 'Sandollar Productions', 'id': 5842}...   \n",
      "\n",
      "                                production_countries release_date    revenue  \\\n",
      "0  [{'iso_3166_1': 'US', 'name': 'United States o...   1995-10-30  373554033   \n",
      "1  [{'iso_3166_1': 'US', 'name': 'United States o...   1995-12-15  262797249   \n",
      "2  [{'iso_3166_1': 'US', 'name': 'United States o...   1995-12-22          0   \n",
      "3  [{'iso_3166_1': 'US', 'name': 'United States o...   1995-12-22   81452156   \n",
      "4  [{'iso_3166_1': 'US', 'name': 'United States o...   1995-02-10   76578911   \n",
      "\n",
      "   runtime    status                                            tagline  \\\n",
      "0     81.0  Released                                                NaN   \n",
      "1    104.0  Released          Roll the dice and unleash the excitement!   \n",
      "2    101.0  Released  Still Yelling. Still Fighting. Still Ready for...   \n",
      "3    127.0  Released  Friends are the people who let you be yourself...   \n",
      "4    106.0  Released  Just When His World Is Back To Normal... He's ...   \n",
      "\n",
      "                         title  vote_average  vote_count  \n",
      "0                    Toy Story           7.7        5415  \n",
      "1                      Jumanji           6.9        2413  \n",
      "2             Grumpier Old Men           6.5          92  \n",
      "3            Waiting to Exhale           6.1          34  \n",
      "4  Father of the Bride Part II           5.7         173  \n",
      "(31952, 17)\n",
      "Index(['budget', 'genres', 'id', 'original_language', 'original_title',\n",
      "       'overview', 'popularity', 'production_companies',\n",
      "       'production_countries', 'release_date', 'revenue', 'runtime', 'status',\n",
      "       'tagline', 'title', 'vote_average', 'vote_count'],\n",
      "      dtype='object')\n"
     ]
    }
   ],
   "source": [
    "# print the first 5 rows of the dataset\n",
    "print(df.head())\n",
    "\n",
    "# print the shape of the dataset\n",
    "print(df.shape)\n",
    "\n",
    "# print the column names\n",
    "print(df.columns)"
   ]
  },
  {
   "cell_type": "code",
   "execution_count": null,
   "id": "498d7463-61f7-4649-bce3-9e1059c24cb1",
   "metadata": {},
   "outputs": [],
   "source": [
    "Step 4: Feature engineering\n",
    "We'll now perform some feature engineering to extract useful information from the dataset that we can use to build our recommendation models.\n",
    "\n",
    "4.1 Numerical feature scaling\n",
    "We'll first scale the numerical features so that they're on the same scale. We'll use the StandardScaler class from scikit-learn to do this."
   ]
  },
  {
   "cell_type": "code",
   "execution_count": 10,
   "id": "085a9f35-3dbb-4a75-a2d5-90a358478328",
   "metadata": {},
   "outputs": [],
   "source": [
    "# extract the numerical features\n",
    "numerical_features = ['budget', 'popularity', 'revenue', 'runtime', 'vote_average', 'vote_count']\n",
    "df_numerical = df[numerical_features]\n",
    "\n",
    "# perform standard scaling\n",
    "scaler = StandardScaler()\n",
    "df_numerical_scaled = scaler.fit_transform(df_numerical)\n",
    "\n",
    "# replace the original numerical columns with the scaled values\n",
    "df[numerical_features] = df_numerical_scaled"
   ]
  },
  {
   "cell_type": "code",
   "execution_count": 12,
   "id": "7ce13136-4bc7-4704-a12c-69a6f613bbac",
   "metadata": {},
   "outputs": [
    {
     "name": "stderr",
     "output_type": "stream",
     "text": [
      "/Users/tarunmidha/opt/anaconda3/envs/dev/lib/python3.7/site-packages/sklearn/utils/deprecation.py:87: FutureWarning: Function get_feature_names is deprecated; get_feature_names is deprecated in 1.0 and will be removed in 1.2. Please use get_feature_names_out instead.\n",
      "  warnings.warn(msg, category=FutureWarning)\n"
     ]
    }
   ],
   "source": [
    "# concatenate all text columns into a single column\n",
    "df_text = df[['overview', 'tagline']].apply(lambda x: ' '.join(x.dropna().astype(str)), axis=1)\n",
    "\n",
    "# replace NaN values with an empty string\n",
    "df_text.fillna('', inplace=True)\n",
    "\n",
    "# perform text feature extraction\n",
    "vectorizer = TfidfVectorizer(stop_words='english')\n",
    "df_text_features = vectorizer.fit_transform(df_text)\n",
    "\n",
    "# convert the sparse matrix to a dense matrix\n",
    "df_text_features = df_text_features.todense()\n",
    "\n",
    "\n",
    "# add the text features to the dataframe\n",
    "df_text_features = pd.DataFrame(df_text_features, columns=vectorizer.get_feature_names())\n",
    "df = pd.concat([df, df_text_features], axis=1)"
   ]
  },
  {
   "cell_type": "code",
   "execution_count": 18,
   "id": "716fe1d8-00b6-4f3a-bef2-25558725f617",
   "metadata": {},
   "outputs": [],
   "source": [
    "from sklearn.impute import SimpleImputer\n",
    "\n",
    "# create an imputer object with strategy 'median'\n",
    "imputer = SimpleImputer(strategy='median')\n",
    "\n",
    "# impute the NaN values in the numerical features\n",
    "df_numerical_scaled = imputer.fit_transform(df_numerical_scaled)\n",
    "\n",
    "# perform PCA on the numerical features\n",
    "pca_numerical = PCA(n_components=3)\n",
    "df_numerical_pca = pca_numerical.fit_transform(df_numerical_scaled)\n",
    "df_numerical_pca = pd.DataFrame(df_numerical_pca, columns=['pca_1', 'pca_2', 'pca_3'])\n",
    "df_numerical = df_numerical.fillna(df_numerical.median())\n",
    "\n",
    "# perform PCA on the text features\n",
    "pca_text = PCA(n_components=10)\n",
    "df_text_pca = pca_text.fit_transform(df_text_features)\n",
    "df_text_pca = pd.DataFrame(df_text_pca, columns=['pca_text_{}'.format(i) for i in range(10)])\n",
    "\n",
    "# add the PCA features to the dataframe \n",
    "df = pd.concat([df, df_numerical_pca, df_text_pca], axis=1)\n",
    "\n"
   ]
  },
  {
   "cell_type": "code",
   "execution_count": 19,
   "id": "b2541d23-74ab-4daa-a086-128d65f2ce42",
   "metadata": {},
   "outputs": [
    {
     "data": {
      "image/png": "[encoded data removed]",
      "text/plain": [
       "<Figure size 640x480 with 1 Axes>"
      ]
     },
     "metadata": {},
     "output_type": "display_data"
    }
   ],
   "source": [
    "# perform k-means clustering\n",
    "pca_features = ['pca_1', 'pca_2', 'pca_3'] + ['pca_text_{}'.format(i) for i in range(10)]\n",
    "X = df[pca_features]\n",
    "inertia = []\n",
    "\n",
    "for k in range(1, 11):\n",
    "    kmeans = KMeans(n_clusters=k, random_state=42)\n",
    "    kmeans.fit(X)\n",
    "    inertia.append(kmeans.inertia_)\n",
    "\n",
    "# plot the elbow curve\n",
    "import matplotlib.pyplot as plt\n",
    "plt.plot(range(1, 11), inertia)\n",
    "plt.title('Elbow curve')\n",
    "plt.xlabel('Number of clusters')\n",
    "plt.ylabel('Inertia')\n",
    "plt.show()\n",
    "\n",
    "# perform k-means clustering with k=4\n",
    "kmeans = KMeans(n_clusters=4, random_state=42)\n",
    "df['cluster'] = kmeans.fit_predict(X)"
   ]
  },
  {
   "cell_type": "markdown",
   "id": "3527237f-590c-498d-9c50-982f15a60336",
   "metadata": {},
   "source": [
    "***Mood-based recommendation model***\n",
    "To recommend movies based on mood, we'll first ask the user to input their mood. We'll then find the cluster of movies that are most similar to that mood, and recommend a random movie from that cluster."
   ]
  },
  {
   "cell_type": "code",
   "execution_count": 23,
   "id": "593f9648-2c45-4d65-8128-4f9484e4dbf1",
   "metadata": {},
   "outputs": [
    {
     "name": "stdin",
     "output_type": "stream",
     "text": [
      "What is your mood?  Action\n"
     ]
    },
    {
     "name": "stderr",
     "output_type": "stream",
     "text": [
      "/Users/tarunmidha/opt/anaconda3/envs/dev/lib/python3.7/site-packages/sklearn/base.py:451: UserWarning: X does not have valid feature names, but PCA was fitted with feature names\n",
      "  \"X does not have valid feature names, but\"\n",
      "/Users/tarunmidha/opt/anaconda3/envs/dev/lib/python3.7/site-packages/sklearn/base.py:451: UserWarning: X does not have valid feature names, but KMeans was fitted with feature names\n",
      "  \"X does not have valid feature names, but\"\n"
     ]
    },
    {
     "name": "stdout",
     "output_type": "stream",
     "text": [
      "We recommend the movie \"['Storyville' 0.0]\".\n"
     ]
    }
   ],
   "source": [
    "# ask the user for their mood\n",
    "mood = input('What is your mood? ')\n",
    "\n",
    "# find the cluster with movies most similar to the mood\n",
    "tfidf_features = vectorizer.transform([mood])\n",
    "tfidf_features = tfidf_features.toarray()\n",
    "pca_text_features = pca_text.transform(tfidf_features)\n",
    "pca_features = np.hstack([pca_numerical.transform([[0, 0, 0, 0, 0, 0]]), pca_text_features])\n",
    "cluster = kmeans.predict(pca_features)[0]\n",
    "\n",
    "# recommend a random movie from the cluster\n",
    "cluster_movies = df[df['cluster'] == cluster]\n",
    "recommendation = cluster_movies.sample()\n",
    "print('We recommend the movie \"{}\".'.format(recommendation['title'].values[0]))"
   ]
  },
  {
   "cell_type": "markdown",
   "id": "4b4a365f-977e-4401-a78d-f2e6ffda3dad",
   "metadata": {},
   "source": [
    "***Keyword-based recommendation model***\n",
    "To recommend movies based on keywords, we'll ask the user to input some keywords. We'll then compute the cosine similarity between the movie descriptions and the input keywords, and recommend the top 5 movies with the highest similarity scores."
   ]
  },
  {
   "cell_type": "code",
   "execution_count": 24,
   "id": "c6286e57-b8ac-4d0b-8bee-0d94b0e07543",
   "metadata": {},
   "outputs": [
    {
     "name": "stdin",
     "output_type": "stream",
     "text": [
      "Enter some keywords:  action comedy drama\n"
     ]
    },
    {
     "name": "stdout",
     "output_type": "stream",
     "text": [
      "Movie: title    Nothing in Common\n",
      "title                  0.0\n",
      "Name: 2063, dtype: object\n",
      "Description: overview    On his way up the corporate ladder, David Basn...\n",
      "overview                                                  0.0\n",
      "Name: 2063, dtype: object\n",
      "\n",
      "Movie: title    Miss Stevens\n",
      "title             0.0\n",
      "Name: 28933, dtype: object\n",
      "Description: overview    A comedy focused on a teacher who chaperones a...\n",
      "overview                                                  0.0\n",
      "Name: 28933, dtype: object\n",
      "\n",
      "Movie: title    Slave Ship\n",
      "title           0.0\n",
      "Name: 13117, dtype: object\n",
      "Description: overview    Action-filled drama about a ship captain, asha...\n",
      "overview                                                  0.0\n",
      "Name: 13117, dtype: object\n",
      "\n",
      "Movie: title    Separation City\n",
      "title                0.0\n",
      "Name: 18717, dtype: object\n",
      "Description: overview    A comedy-drama which follows the collapse of t...\n",
      "overview                                                  0.0\n",
      "Name: 18717, dtype: object\n",
      "\n",
      "Movie: title    Two Men Went To War\n",
      "title                    0.0\n",
      "Name: 6096, dtype: object\n",
      "Description: overview    Comedy drama based on the true story of two Br...\n",
      "overview                                                  0.0\n",
      "Name: 6096, dtype: object\n",
      "\n"
     ]
    }
   ],
   "source": [
    "# ask the user for their keywords\n",
    "keywords = input('Enter some keywords: ')\n",
    "\n",
    "# compute the cosine similarity between the movie descriptions and the keywords\n",
    "tfidf_features = vectorizer.transform([keywords])\n",
    "cos_sim = cosine_similarity(tfidf_features, df_text_features)\n",
    "\n",
    "# recommend the top 5 movies with the highest cosine similarity scores\n",
    "indices = cos_sim.argsort()[0][-5:]\n",
    "recommendations = df.iloc[indices][['title', 'overview']]\n",
    "for i, recommendation in recommendations.iterrows():\n",
    "    print('Movie: {}'.format(recommendation['title']))\n",
    "    print('Description: {}\\n'.format(recommendation['overview']))"
   ]
  },
  {
   "cell_type": "code",
   "execution_count": null,
   "id": "a0347a6f-2386-484a-b2af-f46621219761",
   "metadata": {},
   "outputs": [],
   "source": []
  }
 ],
 "metadata": {
  "kernelspec": {
   "display_name": "Python 3 (ipykernel)",
   "language": "python",
   "name": "python3"
  },
  "language_info": {
   "codemirror_mode": {
    "name": "ipython",
    "version": 3
   },
   "file_extension": ".py",
   "mimetype": "text/x-python",
   "name": "python",
   "nbconvert_exporter": "python",
   "pygments_lexer": "ipython3",
   "version": "3.7.15"
  }
 },
 "nbformat": 4,
 "nbformat_minor": 5
}
