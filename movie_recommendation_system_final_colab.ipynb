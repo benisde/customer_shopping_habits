{
  "nbformat": 4,
  "nbformat_minor": 0,
  "metadata": {
    "colab": {
      "provenance": [],
      "authorship_tag": "ABX9TyMHcJuiz94UeZAG+HxaR8Yq",
      "include_colab_link": true
    },
    "kernelspec": {
      "name": "python3",
      "display_name": "Python 3"
    },
    "language_info": {
      "name": "python"
    }
  },
  "cells": [
    {
      "cell_type": "markdown",
      "metadata": {
        "id": "view-in-github",
        "colab_type": "text"
      },
      "source": [
        "<a href=\"https://colab.research.google.com/github/benisde/recommended_movie/blob/project2_branch1/movie_recommendation_system_final_colab.ipynb\" target=\"_parent\"><img src=\"https://colab.research.google.com/assets/colab-badge.svg\" alt=\"Open In Colab\"/></a>"
      ]
    },
    {
      "cell_type": "code",
      "execution_count": 6,
      "metadata": {
        "colab": {
          "base_uri": "https://localhost:8080/"
        },
        "id": "OM1KI7rMpL72",
        "outputId": "34ffc965-d8b5-4f57-d5ca-a366b444fece"
      },
      "outputs": [
        {
          "output_type": "stream",
          "name": "stderr",
          "text": [
            "[nltk_data] Downloading package stopwords to /root/nltk_data...\n",
            "[nltk_data]   Package stopwords is already up-to-date!\n"
          ]
        }
      ],
      "source": [
        "import pandas as pd\n",
        "import numpy as np\n",
        "from sklearn.feature_extraction.text import CountVectorizer\n",
        "from sklearn.metrics.pairwise import cosine_similarity\n",
        "from sklearn.feature_extraction.text import TfidfVectorizer\n",
        "from sklearn.metrics.pairwise import linear_kernel\n",
        "from sklearn.model_selection import train_test_split\n",
        "from sklearn.preprocessing import StandardScaler\n",
        "from sklearn.svm import SVR\n",
        "from sklearn.ensemble import GradientBoostingRegressor\n",
        "from sklearn.tree import DecisionTreeRegressor\n",
        "from sklearn.ensemble import AdaBoostRegressor, GradientBoostingRegressor\n",
        "from sklearn.metrics import mean_squared_error, r2_score\n",
        "from sklearn.preprocessing import StandardScaler\n",
        "import matplotlib.pyplot as plt\n",
        "import seaborn as sns\n",
        "from sklearn.pipeline import Pipeline\n",
        "from string import punctuation\n",
        "from nltk.corpus import stopwords\n",
        "import nltk\n",
        "nltk.download('stopwords')\n",
        "import io\n",
        "from google.colab import files"
      ]
    },
    {
      "cell_type": "code",
      "source": [
        "# Upload the CSV file\n",
        "uploaded = files.upload()\n",
        "\n",
        "# Read the CSV file using io module\n",
        "data = pd.read_csv(io.StringIO(uploaded['movies_metadata.csv'].decode('utf-8')))"
      ],
      "metadata": {
        "colab": {
          "base_uri": "https://localhost:8080/",
          "height": 74
        },
        "id": "ctv4BzNWpwJT",
        "outputId": "ad5de36b-c6f8-4f7d-b621-ce6b5da63981"
      },
      "execution_count": 4,
      "outputs": [
        {
          "output_type": "display_data",
          "data": {
            "text/plain": [
              "<IPython.core.display.HTML object>"
            ],
            "text/html": [
              "\n",
              "     <input type=\"file\" id=\"files-41866aa9-41b7-4eb2-886a-cef1b4b34c4b\" name=\"files[]\" multiple disabled\n",
              "        style=\"border:none\" />\n",
              "     <output id=\"result-41866aa9-41b7-4eb2-886a-cef1b4b34c4b\">\n",
              "      Upload widget is only available when the cell has been executed in the\n",
              "      current browser session. Please rerun this cell to enable.\n",
              "      </output>\n",
              "      <script>// Copyright 2017 Google LLC\n",
              "//\n",
              "// Licensed under the Apache License, Version 2.0 (the \"License\");\n",
              "// you may not use this file except in compliance with the License.\n",
              "// You may obtain a copy of the License at\n",
              "//\n",
              "//      http://www.apache.org/licenses/LICENSE-2.0\n",
              "//\n",
              "// Unless required by applicable law or agreed to in writing, software\n",
              "// distributed under the License is distributed on an \"AS IS\" BASIS,\n",
              "// WITHOUT WARRANTIES OR CONDITIONS OF ANY KIND, either express or implied.\n",
              "// See the License for the specific language governing permissions and\n",
              "// limitations under the License.\n",
              "\n",
              "/**\n",
              " * @fileoverview Helpers for google.colab Python module.\n",
              " */\n",
              "(function(scope) {\n",
              "function span(text, styleAttributes = {}) {\n",
              "  const element = document.createElement('span');\n",
              "  element.textContent = text;\n",
              "  for (const key of Object.keys(styleAttributes)) {\n",
              "    element.style[key] = styleAttributes[key];\n",
              "  }\n",
              "  return element;\n",
              "}\n",
              "\n",
              "// Max number of bytes which will be uploaded at a time.\n",
              "const MAX_PAYLOAD_SIZE = 100 * 1024;\n",
              "\n",
              "function _uploadFiles(inputId, outputId) {\n",
              "  const steps = uploadFilesStep(inputId, outputId);\n",
              "  const outputElement = document.getElementById(outputId);\n",
              "  // Cache steps on the outputElement to make it available for the next call\n",
              "  // to uploadFilesContinue from Python.\n",
              "  outputElement.steps = steps;\n",
              "\n",
              "  return _uploadFilesContinue(outputId);\n",
              "}\n",
              "\n",
              "// This is roughly an async generator (not supported in the browser yet),\n",
              "// where there are multiple asynchronous steps and the Python side is going\n",
              "// to poll for completion of each step.\n",
              "// This uses a Promise to block the python side on completion of each step,\n",
              "// then passes the result of the previous step as the input to the next step.\n",
              "function _uploadFilesContinue(outputId) {\n",
              "  const outputElement = document.getElementById(outputId);\n",
              "  const steps = outputElement.steps;\n",
              "\n",
              "  const next = steps.next(outputElement.lastPromiseValue);\n",
              "  return Promise.resolve(next.value.promise).then((value) => {\n",
              "    // Cache the last promise value to make it available to the next\n",
              "    // step of the generator.\n",
              "    outputElement.lastPromiseValue = value;\n",
              "    return next.value.response;\n",
              "  });\n",
              "}\n",
              "\n",
              "/**\n",
              " * Generator function which is called between each async step of the upload\n",
              " * process.\n",
              " * @param {string} inputId Element ID of the input file picker element.\n",
              " * @param {string} outputId Element ID of the output display.\n",
              " * @return {!Iterable<!Object>} Iterable of next steps.\n",
              " */\n",
              "function* uploadFilesStep(inputId, outputId) {\n",
              "  const inputElement = document.getElementById(inputId);\n",
              "  inputElement.disabled = false;\n",
              "\n",
              "  const outputElement = document.getElementById(outputId);\n",
              "  outputElement.innerHTML = '';\n",
              "\n",
              "  const pickedPromise = new Promise((resolve) => {\n",
              "    inputElement.addEventListener('change', (e) => {\n",
              "      resolve(e.target.files);\n",
              "    });\n",
              "  });\n",
              "\n",
              "  const cancel = document.createElement('button');\n",
              "  inputElement.parentElement.appendChild(cancel);\n",
              "  cancel.textContent = 'Cancel upload';\n",
              "  const cancelPromise = new Promise((resolve) => {\n",
              "    cancel.onclick = () => {\n",
              "      resolve(null);\n",
              "    };\n",
              "  });\n",
              "\n",
              "  // Wait for the user to pick the files.\n",
              "  const files = yield {\n",
              "    promise: Promise.race([pickedPromise, cancelPromise]),\n",
              "    response: {\n",
              "      action: 'starting',\n",
              "    }\n",
              "  };\n",
              "\n",
              "  cancel.remove();\n",
              "\n",
              "  // Disable the input element since further picks are not allowed.\n",
              "  inputElement.disabled = true;\n",
              "\n",
              "  if (!files) {\n",
              "    return {\n",
              "      response: {\n",
              "        action: 'complete',\n",
              "      }\n",
              "    };\n",
              "  }\n",
              "\n",
              "  for (const file of files) {\n",
              "    const li = document.createElement('li');\n",
              "    li.append(span(file.name, {fontWeight: 'bold'}));\n",
              "    li.append(span(\n",
              "        `(${file.type || 'n/a'}) - ${file.size} bytes, ` +\n",
              "        `last modified: ${\n",
              "            file.lastModifiedDate ? file.lastModifiedDate.toLocaleDateString() :\n",
              "                                    'n/a'} - `));\n",
              "    const percent = span('0% done');\n",
              "    li.appendChild(percent);\n",
              "\n",
              "    outputElement.appendChild(li);\n",
              "\n",
              "    const fileDataPromise = new Promise((resolve) => {\n",
              "      const reader = new FileReader();\n",
              "      reader.onload = (e) => {\n",
              "        resolve(e.target.result);\n",
              "      };\n",
              "      reader.readAsArrayBuffer(file);\n",
              "    });\n",
              "    // Wait for the data to be ready.\n",
              "    let fileData = yield {\n",
              "      promise: fileDataPromise,\n",
              "      response: {\n",
              "        action: 'continue',\n",
              "      }\n",
              "    };\n",
              "\n",
              "    // Use a chunked sending to avoid message size limits. See b/62115660.\n",
              "    let position = 0;\n",
              "    do {\n",
              "      const length = Math.min(fileData.byteLength - position, MAX_PAYLOAD_SIZE);\n",
              "      const chunk = new Uint8Array(fileData, position, length);\n",
              "      position += length;\n",
              "\n",
              "      const base64 = btoa(String.fromCharCode.apply(null, chunk));\n",
              "      yield {\n",
              "        response: {\n",
              "          action: 'append',\n",
              "          file: file.name,\n",
              "          data: base64,\n",
              "        },\n",
              "      };\n",
              "\n",
              "      let percentDone = fileData.byteLength === 0 ?\n",
              "          100 :\n",
              "          Math.round((position / fileData.byteLength) * 100);\n",
              "      percent.textContent = `${percentDone}% done`;\n",
              "\n",
              "    } while (position < fileData.byteLength);\n",
              "  }\n",
              "\n",
              "  // All done.\n",
              "  yield {\n",
              "    response: {\n",
              "      action: 'complete',\n",
              "    }\n",
              "  };\n",
              "}\n",
              "\n",
              "scope.google = scope.google || {};\n",
              "scope.google.colab = scope.google.colab || {};\n",
              "scope.google.colab._files = {\n",
              "  _uploadFiles,\n",
              "  _uploadFilesContinue,\n",
              "};\n",
              "})(self);\n",
              "</script> "
            ]
          },
          "metadata": {}
        },
        {
          "output_type": "stream",
          "name": "stdout",
          "text": [
            "Saving movies_metadata.csv to movies_metadata.csv\n"
          ]
        }
      ]
    },
    {
      "cell_type": "markdown",
      "source": [
        "Pre-process and clean the data"
      ],
      "metadata": {
        "id": "jXJQ3BKgqIBQ"
      }
    },
    {
      "cell_type": "code",
      "source": [
        "# Drop unnecessary columns\n",
        "data = data.drop(columns=['id', 'original_title', 'production_companies', 'production_countries', 'status', 'tagline'])\n",
        "\n",
        "# Remove rows with missing data\n",
        "data = data.dropna()\n",
        "\n",
        "# Convert release_date to datetime\n",
        "data['release_date'] = pd.to_datetime(data['release_date'])"
      ],
      "metadata": {
        "id": "SyPzSG6lqEnS"
      },
      "execution_count": 5,
      "outputs": []
    },
    {
      "cell_type": "markdown",
      "source": [
        "Create a function to extract keywords from the overview"
      ],
      "metadata": {
        "id": "R0zsac4uqMUx"
      }
    },
    {
      "cell_type": "code",
      "source": [
        "def get_keywords(text):\n",
        "    # Remove punctuation\n",
        "    text = ''.join([c for c in text if c not in punctuation])\n",
        "\n",
        "    # Tokenize and remove stop words\n",
        "    tokens = [word for word in text.split() if word.lower() not in stopwords.words('english')]\n",
        "\n",
        "    # Return a list of keywords\n",
        "    return tokens"
      ],
      "metadata": {
        "id": "ylfgu68iqLBd"
      },
      "execution_count": 7,
      "outputs": []
    },
    {
      "cell_type": "markdown",
      "source": [
        "Create a TF-IDF matrix for the overview text"
      ],
      "metadata": {
        "id": "7Ccy-bMtqZLY"
      }
    },
    {
      "cell_type": "code",
      "source": [
        "# Create the TF-IDF vectorizer\n",
        "tfidf = TfidfVectorizer(tokenizer=get_keywords)\n",
        "# Compute the TF-IDF matrix\n",
        "tfidf_matrix = tfidf.fit_transform(data['overview'])"
      ],
      "metadata": {
        "colab": {
          "base_uri": "https://localhost:8080/"
        },
        "id": "MFo_bihsqbVp",
        "outputId": "1f3c8500-fb2a-4daf-f185-c32f0de075ce"
      },
      "execution_count": 8,
      "outputs": [
        {
          "output_type": "stream",
          "name": "stderr",
          "text": [
            "/usr/local/lib/python3.9/dist-packages/sklearn/feature_extraction/text.py:528: UserWarning: The parameter 'token_pattern' will not be used since 'tokenizer' is not None'\n",
            "  warnings.warn(\n"
          ]
        }
      ]
    },
    {
      "cell_type": "markdown",
      "source": [
        "Calculate cosine similarity between movies"
      ],
      "metadata": {
        "id": "aSZzXC9eqhyT"
      }
    },
    {
      "cell_type": "code",
      "source": [
        "#This code calculates the cosine similarity between all pairs of documents in a corpus using the linear_kernel function from the sklearn.metrics.pairwise module.\n",
        "cosine_sim = linear_kernel(tfidf_matrix, tfidf_matrix)"
      ],
      "metadata": {
        "id": "9n-fj8RrqelM"
      },
      "execution_count": 9,
      "outputs": []
    },
    {
      "cell_type": "markdown",
      "source": [
        "Create a function to get movie recommendations based on keywords"
      ],
      "metadata": {
        "id": "88uWu1v2sEfT"
      }
    },
    {
      "cell_type": "code",
      "source": [
        "# Define a function to get movie recommendations based on cosine similarity scores\n",
        "def get_recommendations(title, cosine_sim=cosine_sim):\n",
        "    \n",
        "    # Get the index of the input movie title\n",
        "    idx = indices[title]\n",
        "    \n",
        "    # Calculate cosine similarity scores for all movies compared to the input movie\n",
        "    sim_scores = list(enumerate(cosine_sim[idx].flatten()))\n",
        "    \n",
        "    # Sort the cosine similarity scores in descending order\n",
        "    sim_scores = sorted(sim_scores, key=lambda x: x[1], reverse=True)\n",
        "    \n",
        "    # Get the top 10 most similar movies, excluding the input movie itself\n",
        "    sim_scores = sim_scores[1:11]\n",
        "    \n",
        "    # Get the indices of the top 10 most similar movies\n",
        "    movie_indices = [i[0] for i in sim_scores]\n",
        "    \n",
        "    # Return the titles of the top 10 most similar movies\n",
        "    return data['title'].iloc[movie_indices]"
      ],
      "metadata": {
        "id": "B4hrpR1KsFHP"
      },
      "execution_count": 10,
      "outputs": []
    },
    {
      "cell_type": "code",
      "source": [
        "# Reset the index of the 'data' DataFrame\n",
        "data.reset_index(drop=True, inplace=True)\n",
        "\n",
        "# Update the 'indices' Series\n",
        "indices = pd.Series(data.index, index=data['title']).drop_duplicates()\n",
        "\n",
        "# Test the get_recommendations function\n",
        "# Ask the user to input a movie title\n",
        "user_movie_title = input(\"Enter a movie title: \")\n",
        "\n",
        "try:\n",
        "    # Test the get_recommendations function\n",
        "    recommended_movies = get_recommendations(user_movie_title)\n",
        "    print(f\"Recommended movies for '{user_movie_title}':\")\n",
        "    print(recommended_movies)\n",
        "except KeyError:\n",
        "    print(f\"The movie title '{user_movie_title}' was not found in the dataset. Please try again.\")"
      ],
      "metadata": {
        "colab": {
          "base_uri": "https://localhost:8080/"
        },
        "id": "WkSrBsZ1sHlZ",
        "outputId": "e15ecd60-27ad-422c-bfec-fb17dc7f6ae8"
      },
      "execution_count": 11,
      "outputs": [
        {
          "output_type": "stream",
          "name": "stdout",
          "text": [
            "Enter a movie title: Jumanji\n",
            "Recommended movies for 'Jumanji':\n",
            "16620    Table No. 21\n",
            "5398        Brainscan\n",
            "7536          Quintet\n",
            "7979        Word Wars\n",
            "23211    Turkey Shoot\n",
            "29525    Snowed Under\n",
            "8977       Stay Alive\n",
            "11110      Rhinoceros\n",
            "13238          DeVour\n",
            "22826          Pixels\n",
            "Name: title, dtype: object\n"
          ]
        }
      ]
    },
    {
      "cell_type": "markdown",
      "source": [
        "Create a function to get movie recommendations based on genre"
      ],
      "metadata": {
        "id": "F6BXco6HsPFR"
      }
    },
    {
      "cell_type": "code",
      "source": [
        "def get_genre_recommendations(genre, num_recommendations=10):\n",
        "    # Filter movies by the specified genre\n",
        "    filtered_movies = data[data['genres'].str.contains(genre, case=False, na=False)]\n",
        "    \n",
        "    # Sort movies by their vote_average in descending order\n",
        "    sorted_movies = filtered_movies.sort_values('vote_average', ascending=False)\n",
        "    \n",
        "    # Return the top num_recommendations movies\n",
        "    return sorted_movies[['title', 'vote_average']].head(num_recommendations)"
      ],
      "metadata": {
        "id": "jt6XCkkYsKh2"
      },
      "execution_count": 12,
      "outputs": []
    },
    {
      "cell_type": "code",
      "source": [
        "# Test the get_genre_recommendations function\n",
        "genre = input(\"Enter a genre: \")\n",
        "num_recommendations = 10\n",
        "\n",
        "try:\n",
        "    recommended_movies = get_genre_recommendations(genre, num_recommendations)\n",
        "    print(f\"Top {num_recommendations} movies in the '{genre}' genre:\")\n",
        "    print(recommended_movies)\n",
        "except ValueError:\n",
        "    print(f\"The genre '{genre}' was not found in the dataset. Please try again.\")"
      ],
      "metadata": {
        "colab": {
          "base_uri": "https://localhost:8080/"
        },
        "id": "bcNjQaB0sRq5",
        "outputId": "5069dd39-e557-40d7-d2a4-384b4ccfc2a4"
      },
      "execution_count": 13,
      "outputs": [
        {
          "output_type": "stream",
          "name": "stdout",
          "text": [
            "Enter a genre: Comedy\n",
            "Top 10 movies in the 'Comedy' genre:\n",
            "                                              title  vote_average\n",
            "19618               George Lopez: America's Mexican          10.0\n",
            "18007                                    Tall Story          10.0\n",
            "30188  Sebastian Maniscalco: Why Would You Do That?          10.0\n",
            "20845                                The Little Hut          10.0\n",
            "16500                             A Ticklish Affair          10.0\n",
            "27164                              Bowery Battalion          10.0\n",
            "16440                                 Growing Pains          10.0\n",
            "21086                               Vessel of Wrath          10.0\n",
            "21184                                 Heavy Weather          10.0\n",
            "9101                                  Blessed Event          10.0\n"
          ]
        }
      ]
    },
    {
      "cell_type": "markdown",
      "source": [
        "Create a function to get movie recommendations based on mood"
      ],
      "metadata": {
        "id": "EgA02LYasYOI"
      }
    },
    {
      "cell_type": "code",
      "source": [
        "mood_to_genre = {\n",
        "    'happy': 'Comedy',\n",
        "    'sad': 'Drama',\n",
        "    'excited': 'Action',\n",
        "    'romantic': 'Romance',\n",
        "    'scared': 'Horror'\n",
        "}\n",
        "\n",
        "def get_mood_recommendations(mood, num_recommendations=10):\n",
        "    genre = mood_to_genre.get(mood.lower())\n",
        "    \n",
        "    if genre:\n",
        "        return get_genre_recommendations(genre, num_recommendations)\n",
        "    else:\n",
        "        raise ValueError(f\"The mood '{mood}' was not found in the mood list. Please try again.\")"
      ],
      "metadata": {
        "id": "I7baz4UpsYm1"
      },
      "execution_count": 14,
      "outputs": []
    },
    {
      "cell_type": "code",
      "source": [
        "# Test the get_mood_recommendations function\n",
        "mood = input(\"Enter your mood {happy, sad, excited, romantic, scared}: \")\n",
        "num_recommendations = 10\n",
        "\n",
        "try:\n",
        "    recommended_movies = get_mood_recommendations(mood, num_recommendations)\n",
        "    print(f\"Top {num_recommendations} movies for the mood '{mood}':\")\n",
        "    print(recommended_movies)\n",
        "except ValueError as e:\n",
        "    print(e)"
      ],
      "metadata": {
        "colab": {
          "base_uri": "https://localhost:8080/"
        },
        "id": "HHRS1ShvsTZT",
        "outputId": "78caf41e-f228-4b61-c79d-0833c7238f8c"
      },
      "execution_count": 15,
      "outputs": [
        {
          "output_type": "stream",
          "name": "stdout",
          "text": [
            "Enter your mood {happy, sad, excited, romantic, scared}: sad\n",
            "Top 10 movies for the mood 'sad':\n",
            "                             title  vote_average\n",
            "16604                 Almost Kings          10.0\n",
            "19165  Let No Man Write My Epitaph          10.0\n",
            "26082               Birch Interval          10.0\n",
            "167                       Reckless          10.0\n",
            "26723                       Mammal          10.0\n",
            "17278                    Eggshells          10.0\n",
            "29121             Titus Andronicus          10.0\n",
            "21797     Southern Baptist Sissies          10.0\n",
            "9101                 Blessed Event          10.0\n",
            "17681                    Dragonfly          10.0\n"
          ]
        }
      ]
    },
    {
      "cell_type": "markdown",
      "source": [
        "Create a function to recommend cult-classic movies based on genre"
      ],
      "metadata": {
        "id": "8fnRCWWzsh2x"
      }
    },
    {
      "cell_type": "code",
      "source": [
        "#Define a function to get recommendations for cult-classic movies based on genre, vote count, and vote average thresholds\n",
        "def get_cult_classic_recommendations(genre, vote_count_threshold=100, vote_average_threshold=7.5, num_recommendations=10):\n",
        "    # Filter the data based on the given genre, vote count, and vote average thresholds\n",
        "    filtered_data = data[(data['genres'].str.contains(genre, case=False)) &\n",
        "                     (data['vote_count'] < vote_count_threshold) &\n",
        "                     (data['vote_average'] >= vote_average_threshold)]\n",
        "\n",
        "    # Sort the filtered data by vote average in descending order\n",
        "    filtered_data = filtered_data.sort_values(by='vote_average', ascending=False)\n",
        "\n",
        "    # Return the top 'num_recommendations' movie titles\n",
        "    return filtered_data['title'].head(num_recommendations)"
      ],
      "metadata": {
        "id": "69augCDHsc0M"
      },
      "execution_count": 16,
      "outputs": []
    },
    {
      "cell_type": "code",
      "source": [
        "# Test the get_cult_classic_recommendations function\n",
        "genre = input(\"Enter the genre: \")\n",
        "num_recommendations = 10\n",
        "\n",
        "try:\n",
        "    recommended_movies = get_cult_classic_recommendations(genre, num_recommendations=num_recommendations)\n",
        "    print(f\"Top {num_recommendations} cult-classic movies in the '{genre}' genre:\")\n",
        "    print(recommended_movies)\n",
        "except Exception as e:\n",
        "    print(e)"
      ],
      "metadata": {
        "colab": {
          "base_uri": "https://localhost:8080/"
        },
        "id": "dH-FxjptsmSs",
        "outputId": "a8d96a52-567e-40d6-fe0d-2847547b386c"
      },
      "execution_count": 17,
      "outputs": [
        {
          "output_type": "stream",
          "name": "stdout",
          "text": [
            "Enter the genre: Horror\n",
            "Top 10 cult-classic movies in the 'Horror' genre:\n",
            "30310                           Zombie Pizza\n",
            "29217                Killjoy's Psycho Circus\n",
            "17732                       Ghost Adventures\n",
            "18032                               Jennifer\n",
            "9709             The Legend of Sleepy Hollow\n",
            "18257                          The Strangler\n",
            "1135                       Vampire in Venice\n",
            "18667    National Theatre Live: Frankenstein\n",
            "2251                        The Mummy's Tomb\n",
            "18564                                Ward 13\n",
            "Name: title, dtype: object\n"
          ]
        }
      ]
    },
    {
      "cell_type": "markdown",
      "source": [
        "Analyze factors that correlate with the highest ROI (Revenue/Budget)"
      ],
      "metadata": {
        "id": "Q5zH3dHWsxy0"
      }
    },
    {
      "cell_type": "code",
      "source": [
        "# Calculate the ROI\n",
        "data['ROI'] = data['revenue'] / data['budget']\n",
        "\n",
        "# Plot a heatmap of the correlation matrix\n",
        "plt.figure(figsize=(12, 6))\n",
        "sns.heatmap(data.corr(), annot=True, cmap='coolwarm')\n",
        "plt.show()"
      ],
      "metadata": {
        "colab": {
          "base_uri": "https://localhost:8080/",
          "height": 378
        },
        "id": "U9D3RIqrspHY",
        "outputId": "26ed9bd8-d009-4378-dd4a-bb6b94a949e4"
      },
      "execution_count": 18,
      "outputs": [
        {
          "output_type": "display_data",
          "data": {
            "text/plain": [
              "<Figure size 864x432 with 2 Axes>"
            ],
            "image/png": "[encoded data removed]"
          },
          "metadata": {
            "needs_background": "light"
          }
        }
      ]
    },
    {
      "cell_type": "markdown",
      "source": [
        "Machine learning"
      ],
      "metadata": {
        "id": "dwyrkEGNs488"
      }
    },
    {
      "cell_type": "code",
      "source": [
        "# Select the features and target\n",
        "X = data[['budget', 'popularity']]\n",
        "y = data['revenue']"
      ],
      "metadata": {
        "id": "MqakN-V8s1bO"
      },
      "execution_count": 19,
      "outputs": []
    },
    {
      "cell_type": "code",
      "source": [
        "# Split the dataset into training and testing sets\n",
        "X_train, X_test, y_train, y_test = train_test_split(X, y, test_size=0.2, random_state=42)"
      ],
      "metadata": {
        "id": "dAsWR3PJs7iM"
      },
      "execution_count": 20,
      "outputs": []
    },
    {
      "cell_type": "code",
      "source": [
        "# Create the base estimator (DecisionTreeRegressor)\n",
        "base_estimator = DecisionTreeRegressor(max_depth=4)\n",
        "\n",
        "# Create the AdaBoostRegressor model\n",
        "ada_model = AdaBoostRegressor(base_estimator=base_estimator, n_estimators=100, random_state=42)\n",
        "\n",
        "# Create the GradientBoostingRegressor model\n",
        "gb_model = GradientBoostingRegressor(n_estimators=100, random_state=42)"
      ],
      "metadata": {
        "id": "8SuwHexKs9ci"
      },
      "execution_count": 21,
      "outputs": []
    },
    {
      "cell_type": "code",
      "source": [
        "# Fit the models to the training data\n",
        "ada_model.fit(X_train, y_train)\n",
        "gb_model.fit(X_train, y_train)"
      ],
      "metadata": {
        "colab": {
          "base_uri": "https://localhost:8080/",
          "height": 110
        },
        "id": "WGd2uDLxs_e-",
        "outputId": "b1917686-3e81-4a79-8ac8-db18f555e145"
      },
      "execution_count": 22,
      "outputs": [
        {
          "output_type": "stream",
          "name": "stderr",
          "text": [
            "/usr/local/lib/python3.9/dist-packages/sklearn/ensemble/_base.py:166: FutureWarning: `base_estimator` was renamed to `estimator` in version 1.2 and will be removed in 1.4.\n",
            "  warnings.warn(\n"
          ]
        },
        {
          "output_type": "execute_result",
          "data": {
            "text/plain": [
              "GradientBoostingRegressor(random_state=42)"
            ],
            "text/html": [
              "<style>#sk-container-id-1 {color: black;background-color: white;}#sk-container-id-1 pre{padding: 0;}#sk-container-id-1 div.sk-toggleable {background-color: white;}#sk-container-id-1 label.sk-toggleable__label {cursor: pointer;display: block;width: 100%;margin-bottom: 0;padding: 0.3em;box-sizing: border-box;text-align: center;}#sk-container-id-1 label.sk-toggleable__label-arrow:before {content: \"▸\";float: left;margin-right: 0.25em;color: #696969;}#sk-container-id-1 label.sk-toggleable__label-arrow:hover:before {color: black;}#sk-container-id-1 div.sk-estimator:hover label.sk-toggleable__label-arrow:before {color: black;}#sk-container-id-1 div.sk-toggleable__content {max-height: 0;max-width: 0;overflow: hidden;text-align: left;background-color: #f0f8ff;}#sk-container-id-1 div.sk-toggleable__content pre {margin: 0.2em;color: black;border-radius: 0.25em;background-color: #f0f8ff;}#sk-container-id-1 input.sk-toggleable__control:checked~div.sk-toggleable__content {max-height: 200px;max-width: 100%;overflow: auto;}#sk-container-id-1 input.sk-toggleable__control:checked~label.sk-toggleable__label-arrow:before {content: \"▾\";}#sk-container-id-1 div.sk-estimator input.sk-toggleable__control:checked~label.sk-toggleable__label {background-color: #d4ebff;}#sk-container-id-1 div.sk-label input.sk-toggleable__control:checked~label.sk-toggleable__label {background-color: #d4ebff;}#sk-container-id-1 input.sk-hidden--visually {border: 0;clip: rect(1px 1px 1px 1px);clip: rect(1px, 1px, 1px, 1px);height: 1px;margin: -1px;overflow: hidden;padding: 0;position: absolute;width: 1px;}#sk-container-id-1 div.sk-estimator {font-family: monospace;background-color: #f0f8ff;border: 1px dotted black;border-radius: 0.25em;box-sizing: border-box;margin-bottom: 0.5em;}#sk-container-id-1 div.sk-estimator:hover {background-color: #d4ebff;}#sk-container-id-1 div.sk-parallel-item::after {content: \"\";width: 100%;border-bottom: 1px solid gray;flex-grow: 1;}#sk-container-id-1 div.sk-label:hover label.sk-toggleable__label {background-color: #d4ebff;}#sk-container-id-1 div.sk-serial::before {content: \"\";position: absolute;border-left: 1px solid gray;box-sizing: border-box;top: 0;bottom: 0;left: 50%;z-index: 0;}#sk-container-id-1 div.sk-serial {display: flex;flex-direction: column;align-items: center;background-color: white;padding-right: 0.2em;padding-left: 0.2em;position: relative;}#sk-container-id-1 div.sk-item {position: relative;z-index: 1;}#sk-container-id-1 div.sk-parallel {display: flex;align-items: stretch;justify-content: center;background-color: white;position: relative;}#sk-container-id-1 div.sk-item::before, #sk-container-id-1 div.sk-parallel-item::before {content: \"\";position: absolute;border-left: 1px solid gray;box-sizing: border-box;top: 0;bottom: 0;left: 50%;z-index: -1;}#sk-container-id-1 div.sk-parallel-item {display: flex;flex-direction: column;z-index: 1;position: relative;background-color: white;}#sk-container-id-1 div.sk-parallel-item:first-child::after {align-self: flex-end;width: 50%;}#sk-container-id-1 div.sk-parallel-item:last-child::after {align-self: flex-start;width: 50%;}#sk-container-id-1 div.sk-parallel-item:only-child::after {width: 0;}#sk-container-id-1 div.sk-dashed-wrapped {border: 1px dashed gray;margin: 0 0.4em 0.5em 0.4em;box-sizing: border-box;padding-bottom: 0.4em;background-color: white;}#sk-container-id-1 div.sk-label label {font-family: monospace;font-weight: bold;display: inline-block;line-height: 1.2em;}#sk-container-id-1 div.sk-label-container {text-align: center;}#sk-container-id-1 div.sk-container {/* jupyter's `normalize.less` sets `[hidden] { display: none; }` but bootstrap.min.css set `[hidden] { display: none !important; }` so we also need the `!important` here to be able to override the default hidden behavior on the sphinx rendered scikit-learn.org. See: https://github.com/scikit-learn/scikit-learn/issues/21755 */display: inline-block !important;position: relative;}#sk-container-id-1 div.sk-text-repr-fallback {display: none;}</style><div id=\"sk-container-id-1\" class=\"sk-top-container\"><div class=\"sk-text-repr-fallback\"><pre>GradientBoostingRegressor(random_state=42)</pre><b>In a Jupyter environment, please rerun this cell to show the HTML representation or trust the notebook. <br />On GitHub, the HTML representation is unable to render, please try loading this page with nbviewer.org.</b></div><div class=\"sk-container\" hidden><div class=\"sk-item\"><div class=\"sk-estimator sk-toggleable\"><input class=\"sk-toggleable__control sk-hidden--visually\" id=\"sk-estimator-id-1\" type=\"checkbox\" checked><label for=\"sk-estimator-id-1\" class=\"sk-toggleable__label sk-toggleable__label-arrow\">GradientBoostingRegressor</label><div class=\"sk-toggleable__content\"><pre>GradientBoostingRegressor(random_state=42)</pre></div></div></div></div></div>"
            ]
          },
          "metadata": {},
          "execution_count": 22
        }
      ]
    },
    {
      "cell_type": "code",
      "source": [
        "# Evaluate the models on the test set\n",
        "ada_y_pred = ada_model.predict(X_test)\n",
        "gb_y_pred = gb_model.predict(X_test)"
      ],
      "metadata": {
        "id": "ue8E_rhBtHQc"
      },
      "execution_count": 23,
      "outputs": []
    },
    {
      "cell_type": "code",
      "source": [
        "# Calculate the evaluation metrics\n",
        "ada_mse = mean_squared_error(y_test, ada_y_pred)\n",
        "ada_rmse = np.sqrt(ada_mse)\n",
        "ada_r2 = r2_score(y_test, ada_y_pred)\n",
        "\n",
        "gb_mse = mean_squared_error(y_test, gb_y_pred)\n",
        "gb_rmse = np.sqrt(gb_mse)\n",
        "gb_r2 = r2_score(y_test, gb_y_pred)"
      ],
      "metadata": {
        "id": "5TfYeN0vtKNN"
      },
      "execution_count": 24,
      "outputs": []
    },
    {
      "cell_type": "code",
      "source": [
        "print(\"AdaBoostRegressor Metrics:\")\n",
        "print(\"MSE:\", ada_mse)\n",
        "print(\"RMSE:\", ada_rmse)\n",
        "print(\"R2 Score:\", ada_r2)\n",
        "\n",
        "print(\"\\nGradientBoostingRegressor Metrics:\")\n",
        "print(\"MSE:\", gb_mse)\n",
        "print(\"RMSE:\", gb_rmse)\n",
        "print(\"R2 Score:\", gb_r2)"
      ],
      "metadata": {
        "colab": {
          "base_uri": "https://localhost:8080/"
        },
        "id": "GYJuVnXrtMSf",
        "outputId": "1b7e4a18-cfe3-4241-be0b-2797470207bd"
      },
      "execution_count": 25,
      "outputs": [
        {
          "output_type": "stream",
          "name": "stdout",
          "text": [
            "AdaBoostRegressor Metrics:\n",
            "MSE: 8345049776798292.0\n",
            "RMSE: 91351243.98057364\n",
            "R2 Score: -0.8133629640768927\n",
            "\n",
            "GradientBoostingRegressor Metrics:\n",
            "MSE: 1659001474115129.5\n",
            "RMSE: 40730841.80464638\n",
            "R2 Score: 0.6395022305470832\n"
          ]
        }
      ]
    },
    {
      "cell_type": "markdown",
      "source": [
        "Based on the results, it can be observed that the GradientBoostingRegressor model outperforms the AdaBoostRegressor model in terms of MSE, RMSE, and R2 Score. The MSE and RMSE values for the GradientBoostingRegressor model are significantly lower than the AdaBoostRegressor model, indicating that the GradientBoostingRegressor model provides more accurate predictions. The R2 Score for the GradientBoostingRegressor model is also significantly higher than the AdaBoostRegressor model, indicating that the GradientBoostingRegressor model explains more variance in the data."
      ],
      "metadata": {
        "id": "C_Sbi6XvtTfU"
      }
    },
    {
      "cell_type": "code",
      "source": [
        "# Visualization\n",
        "fig, (ax1, ax2) = plt.subplots(1, 2, figsize=(12, 5))\n",
        "\n",
        "ax1.scatter(y_test, ada_y_pred, alpha=0.3)\n",
        "ax1.set_xlabel('True Revenue')\n",
        "ax1.set_ylabel('Predicted Revenue')\n",
        "ax1.set_title('AdaBoostRegressor: True vs Predicted Revenue')\n",
        "ax1.plot([y_test.min(), y_test.max()], [y_test.min(), y_test.max()], 'k--', lw=3)\n",
        "\n",
        "ax2.scatter(y_test, gb_y_pred, alpha=0.3)\n",
        "ax2.set_xlabel('True Revenue')\n",
        "ax2.set_ylabel('Predicted Revenue')\n",
        "ax2.set_title('GradientBoostingRegressor: True vs Predicted Revenue')\n",
        "ax2.plot([y_test.min(), y_test.max()], [y_test.min(), y_test.max()], 'k--', lw=3)\n",
        "\n",
        "plt.tight_layout()\n",
        "plt.show()"
      ],
      "metadata": {
        "colab": {
          "base_uri": "https://localhost:8080/",
          "height": 358
        },
        "id": "mbTH95EvtQSx",
        "outputId": "8f4b9d71-253f-4699-e0b9-c8daab8c0b94"
      },
      "execution_count": 26,
      "outputs": [
        {
          "output_type": "display_data",
          "data": {
            "text/plain": [
              "<Figure size 864x360 with 2 Axes>"
            ],
            "image/png": "[encoded data removed]"
          },
          "metadata": {
            "needs_background": "light"
          }
        }
      ]
    },
    {
      "cell_type": "code",
      "source": [
        "# Get predictions for both models\n",
        "y_pred_ada = ada_model.predict(X_test)\n",
        "y_pred_grad = gb_model.predict(X_test)\n",
        "\n",
        "# Create scatter plots\n",
        "plt.figure(figsize=(10, 5))\n",
        "plt.subplot(1, 2, 1)\n",
        "plt.scatter(y_test, y_pred_ada)\n",
        "plt.xlabel(\"Actual Revenue\")\n",
        "plt.ylabel(\"Predicted Revenue\")\n",
        "plt.title(\"AdaBoostRegressor Model\")\n",
        "\n",
        "plt.subplot(1, 2, 2)\n",
        "plt.scatter(y_test, y_pred_grad)\n",
        "plt.xlabel(\"Actual Revenue\")\n",
        "plt.ylabel(\"Predicted Revenue\")\n",
        "plt.title(\"GradientBoostingRegressor Model\")\n",
        "\n",
        "plt.tight_layout()\n",
        "plt.show()"
      ],
      "metadata": {
        "colab": {
          "base_uri": "https://localhost:8080/",
          "height": 369
        },
        "id": "nbPGTmXftV_T",
        "outputId": "661170c1-b5f8-4a72-b857-ddf4d2ad3b9e"
      },
      "execution_count": 27,
      "outputs": [
        {
          "output_type": "display_data",
          "data": {
            "text/plain": [
              "<Figure size 720x360 with 2 Axes>"
            ],
            "image/png": "[encoded data removed]"
          },
          "metadata": {
            "needs_background": "light"
          }
        }
      ]
    },
    {
      "cell_type": "code",
      "source": [],
      "metadata": {
        "id": "x-kSHzTktZEM"
      },
      "execution_count": null,
      "outputs": []
    }
  ]
}