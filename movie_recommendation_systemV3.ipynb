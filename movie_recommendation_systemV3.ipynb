{
 "cells": [
  {
   "attachments": {},
   "cell_type": "markdown",
   "id": "868cf241",
   "metadata": {},
   "source": [
    "# Movie Recommendation\n",
    "\n",
    "## Project 2, Team 2"
   ]
  },
  {
   "cell_type": "markdown",
   "id": "2e3fdff2-044f-4b04-8bfc-a0200f0fc6b6",
   "metadata": {},
   "source": [
    "**Import libraries and load the dataset**"
   ]
  },
  {
   "cell_type": "code",
   "execution_count": 20,
   "id": "bb9dc8a1-8c24-4de4-ad15-220d77c02c4b",
   "metadata": {},
   "outputs": [
    {
     "name": "stderr",
     "output_type": "stream",
     "text": [
      "[nltk_data] Downloading package stopwords to\n",
      "[nltk_data]     /Users/tarunmidha/nltk_data...\n",
      "[nltk_data]   Package stopwords is already up-to-date!\n"
     ]
    }
   ],
   "source": [
    "import pandas as pd\n",
    "import numpy as np\n",
    "from sklearn.feature_extraction.text import TfidfVectorizer\n",
    "from sklearn.metrics.pairwise import linear_kernel\n",
    "from sklearn.model_selection import train_test_split\n",
    "from sklearn.preprocessing import StandardScaler\n",
    "from sklearn.svm import SVR\n",
    "from sklearn.ensemble import GradientBoostingRegressor\n",
    "from sklearn.preprocessing import StandardScaler\n",
    "from sklearn.metrics import mean_squared_error, r2_score\n",
    "import matplotlib.pyplot as plt\n",
    "import seaborn as sns\n",
    "from sklearn.pipeline import Pipeline\n",
    "from string import punctuation\n",
    "from nltk.corpus import stopwords\n",
    "import nltk\n",
    "nltk.download('stopwords')\n",
    "\n",
    "# Load the dataset\n",
    "data = pd.read_csv('resources/movies_metadata.csv')"
   ]
  },
  {
   "cell_type": "code",
   "execution_count": null,
   "id": "7fea425d-7237-450e-a33f-7732c3906135",
   "metadata": {},
   "outputs": [],
   "source": []
  },
  {
   "cell_type": "markdown",
   "id": "b4d27fb0-2209-4653-92e5-b75f91068a8c",
   "metadata": {},
   "source": [
    "**Pre-process and clean the data**"
   ]
  },
  {
   "cell_type": "code",
   "execution_count": 2,
   "id": "4ddb0f2d-e67e-427a-87c7-249a088853a6",
   "metadata": {},
   "outputs": [],
   "source": [
    "# Drop unnecessary columns\n",
    "data = data.drop(columns=['id', 'original_title', 'production_companies', 'production_countries', 'status', 'tagline'])\n",
    "\n",
    "# Remove rows with missing data\n",
    "data = data.dropna()\n",
    "\n",
    "# Convert release_date to datetime\n",
    "data['release_date'] = pd.to_datetime(data['release_date'])"
   ]
  },
  {
   "cell_type": "markdown",
   "id": "cb2eb46e-2127-4a03-8c22-9aad407a6ef4",
   "metadata": {},
   "source": [
    "**Create a function to extract keywords from the overview**"
   ]
  },
  {
   "cell_type": "code",
   "execution_count": 3,
   "id": "a87c6ff6-892a-4b08-9718-d1f683012e12",
   "metadata": {},
   "outputs": [],
   "source": [
    "from sklearn.feature_extraction.text import CountVectorizer\n",
    "from sklearn.metrics.pairwise import cosine_similarity\n",
    "\n",
    "def get_keywords(text):\n",
    "    # Remove punctuation\n",
    "    text = ''.join([c for c in text if c not in punctuation])\n",
    "\n",
    "    # Tokenize and remove stop words\n",
    "    tokens = [word for word in text.split() if word.lower() not in stopwords.words('english')]\n",
    "\n",
    "    # Return a list of keywords\n",
    "    return tokens\n"
   ]
  },
  {
   "cell_type": "markdown",
   "id": "f22b1bd7-37cf-415b-9edd-e58c70309271",
   "metadata": {},
   "source": [
    "**Create a TF-IDF matrix for the overview text**"
   ]
  },
  {
   "cell_type": "code",
   "execution_count": 4,
   "id": "a1b0019e-0104-4e2a-9c0c-d72260b17210",
   "metadata": {},
   "outputs": [],
   "source": [
    "tfidf = TfidfVectorizer(tokenizer=get_keywords)\n",
    "tfidf_matrix = tfidf.fit_transform(data['overview'])"
   ]
  },
  {
   "cell_type": "markdown",
   "id": "cbae1bcc-ddfe-45ab-95ea-bfd6ecb1e20d",
   "metadata": {},
   "source": [
    "**Calculate cosine similarity between movies**"
   ]
  },
  {
   "cell_type": "code",
   "execution_count": 5,
   "id": "36dee5ae-03ba-478d-b075-7af2a8a3f7b3",
   "metadata": {},
   "outputs": [],
   "source": [
    "cosine_sim = linear_kernel(tfidf_matrix, tfidf_matrix)"
   ]
  },
  {
   "cell_type": "markdown",
   "id": "1da50ffc-4332-45a0-b47d-613ace4de791",
   "metadata": {},
   "source": [
    "**Create a function to get movie recommendations based on keywords**"
   ]
  },
  {
   "cell_type": "code",
   "execution_count": 6,
   "id": "c11f9b2f-b589-4eaa-9cb1-eb3418582917",
   "metadata": {},
   "outputs": [],
   "source": [
    "indices = pd.Series(data.index, index=data['title']).drop_duplicates()\n",
    "\n",
    "def get_recommendations(title, cosine_sim=cosine_sim):\n",
    "    idx = indices[title]\n",
    "    sim_scores = list(enumerate(cosine_sim[idx].flatten()))\n",
    "    sim_scores = sorted(sim_scores, key=lambda x: x[1], reverse=True)\n",
    "    sim_scores = sim_scores[1:11]\n",
    "    movie_indices = [i[0] for i in sim_scores]\n",
    "    return data['title'].iloc[movie_indices]\n"
   ]
  },
  {
   "cell_type": "code",
   "execution_count": 7,
   "id": "d4accdb3-6a0c-4a38-aad7-a6fe91b2ffb7",
   "metadata": {},
   "outputs": [
    {
     "name": "stdout",
     "output_type": "stream",
     "text": [
      "Enter a movie title:  Jumanji\n"
     ]
    },
    {
     "name": "stdout",
     "output_type": "stream",
     "text": [
      "Recommended movies for 'Jumanji':\n",
      "16620    Table No. 21\n",
      "5398        Brainscan\n",
      "7536          Quintet\n",
      "7979        Word Wars\n",
      "23211    Turkey Shoot\n",
      "29525    Snowed Under\n",
      "8977       Stay Alive\n",
      "11110      Rhinoceros\n",
      "13238          DeVour\n",
      "22826          Pixels\n",
      "Name: title, dtype: object\n"
     ]
    }
   ],
   "source": [
    "# Reset the index of the 'data' DataFrame\n",
    "data.reset_index(drop=True, inplace=True)\n",
    "\n",
    "# Update the 'indices' Series\n",
    "indices = pd.Series(data.index, index=data['title']).drop_duplicates()\n",
    "\n",
    "# Test the get_recommendations function\n",
    "# Ask the user to input a movie title\n",
    "user_movie_title = input(\"Enter a movie title: \")\n",
    "\n",
    "try:\n",
    "    # Test the get_recommendations function\n",
    "    recommended_movies = get_recommendations(user_movie_title)\n",
    "    print(f\"Recommended movies for '{user_movie_title}':\")\n",
    "    print(recommended_movies)\n",
    "except KeyError:\n",
    "    print(f\"The movie title '{user_movie_title}' was not found in the dataset. Please try again.\")"
   ]
  },
  {
   "cell_type": "markdown",
   "id": "90c6b7d0-8a52-47aa-bf86-84ed5861f0b1",
   "metadata": {},
   "source": [
    "**Create a function to get movie recommendations based on genre**"
   ]
  },
  {
   "cell_type": "code",
   "execution_count": 8,
   "id": "1f2805fd-f8da-4cda-bb91-8fd30a53dd1e",
   "metadata": {},
   "outputs": [],
   "source": [
    "def get_genre_recommendations(genre, num_recommendations=10):\n",
    "    # Filter movies by the specified genre\n",
    "    filtered_movies = data[data['genres'].str.contains(genre, case=False, na=False)]\n",
    "    \n",
    "    # Sort movies by their vote_average in descending order\n",
    "    sorted_movies = filtered_movies.sort_values('vote_average', ascending=False)\n",
    "    \n",
    "    # Return the top num_recommendations movies\n",
    "    return sorted_movies[['title', 'vote_average']].head(num_recommendations)"
   ]
  },
  {
   "cell_type": "code",
   "execution_count": 9,
   "id": "88fa1cba-034e-4104-8254-57f73197ff99",
   "metadata": {},
   "outputs": [
    {
     "name": "stdout",
     "output_type": "stream",
     "text": [
      "Enter a genre:  Action\n"
     ]
    },
    {
     "name": "stdout",
     "output_type": "stream",
     "text": [
      "Top 10 movies in the 'Action' genre:\n",
      "                                   title  vote_average\n",
      "26192                 The Lion of Thebes          10.0\n",
      "23101  Mortal Kombat: The Journey Begins          10.0\n",
      "28301             The Dragon Lives Again          10.0\n",
      "7917    High Roller: The Stu Ungar Story          10.0\n",
      "2624                           Ten Benny          10.0\n",
      "22763                      Backyard Dogs          10.0\n",
      "21157                                Pan          10.0\n",
      "31692                   First Round Down          10.0\n",
      "29990                    The River Thief           9.3\n",
      "1892                      One Man's Hero           9.3\n"
     ]
    }
   ],
   "source": [
    "# Test the get_genre_recommendations function\n",
    "genre = input(\"Enter a genre: \")\n",
    "num_recommendations = 10\n",
    "\n",
    "try:\n",
    "    recommended_movies = get_genre_recommendations(genre, num_recommendations)\n",
    "    print(f\"Top {num_recommendations} movies in the '{genre}' genre:\")\n",
    "    print(recommended_movies)\n",
    "except ValueError:\n",
    "    print(f\"The genre '{genre}' was not found in the dataset. Please try again.\")"
   ]
  },
  {
   "cell_type": "markdown",
   "id": "a838fa63-3559-4794-9220-c46fc99a61d5",
   "metadata": {},
   "source": [
    "**Create a function to get movie recommendations based on mood**"
   ]
  },
  {
   "cell_type": "code",
   "execution_count": 10,
   "id": "735d0f11-c6e8-463a-8609-56a94a8fcbb3",
   "metadata": {},
   "outputs": [],
   "source": [
    "mood_to_genre = {\n",
    "    'happy': 'Comedy',\n",
    "    'sad': 'Drama',\n",
    "    'excited': 'Action',\n",
    "    'romantic': 'Romance',\n",
    "    'scared': 'Horror'\n",
    "}\n",
    "\n",
    "def get_mood_recommendations(mood, num_recommendations=10):\n",
    "    genre = mood_to_genre.get(mood.lower())\n",
    "    \n",
    "    if genre:\n",
    "        return get_genre_recommendations(genre, num_recommendations)\n",
    "    else:\n",
    "        raise ValueError(f\"The mood '{mood}' was not found in the mood list. Please try again.\")"
   ]
  },
  {
   "cell_type": "code",
   "execution_count": 35,
   "id": "b83b1d31-6ff9-401b-a1f1-4a488c9cb7f5",
   "metadata": {},
   "outputs": [
    {
     "name": "stdout",
     "output_type": "stream",
     "text": [
      "Enter your mood {happy, sad, excited, romantic, scared}:  sad\n"
     ]
    },
    {
     "name": "stdout",
     "output_type": "stream",
     "text": [
      "Top 10 movies for the mood 'sad':\n",
      "                       title  vote_average\n",
      "19504      The Walking Stick          10.0\n",
      "10929       Hell to Eternity          10.0\n",
      "1887       The Farmer's Wife          10.0\n",
      "16476       Criminal Justice          10.0\n",
      "21595        Nocturne Indien          10.0\n",
      "1549   Dancer, Texas Pop. 81          10.0\n",
      "16634           Almost Kings          10.0\n",
      "21304                 Mentor          10.0\n",
      "167                 Reckless          10.0\n",
      "27389      One Man's Journey          10.0\n"
     ]
    }
   ],
   "source": [
    "# Test the get_mood_recommendations function\n",
    "mood = input(\"Enter your mood {happy, sad, excited, romantic, scared}: \")\n",
    "num_recommendations = 10\n",
    "\n",
    "try:\n",
    "    recommended_movies = get_mood_recommendations(mood, num_recommendations)\n",
    "    print(f\"Top {num_recommendations} movies for the mood '{mood}':\")\n",
    "    print(recommended_movies)\n",
    "except ValueError as e:\n",
    "    print(e)"
   ]
  },
  {
   "cell_type": "markdown",
   "id": "5c51b0c3-3345-49e5-a96c-510925c7037b",
   "metadata": {},
   "source": [
    "**Create a function to recommend cult-classic movies based on genre**"
   ]
  },
  {
   "cell_type": "code",
   "execution_count": 12,
   "id": "e9f8eb26-96bf-4495-aafc-597c1b5451cc",
   "metadata": {},
   "outputs": [],
   "source": [
    "def get_cult_classic_recommendations(genre, vote_count_threshold=100, vote_average_threshold=7.5, num_recommendations=10):\n",
    "    filtered_data = data[(data['genres'].str.contains(genre, case=False)) &\n",
    "                         (data['vote_count'] < vote_count_threshold) &\n",
    "                         (data['vote_average'] >= vote_average_threshold)]\n",
    "    \n",
    "    filtered_data = filtered_data.sort_values(by='vote_average', ascending=False)\n",
    "    \n",
    "    return filtered_data['title'].head(num_recommendations)"
   ]
  },
  {
   "cell_type": "code",
   "execution_count": 13,
   "id": "9f5f28d9-fda7-4c8b-a5cd-f6836cb19b11",
   "metadata": {},
   "outputs": [
    {
     "name": "stdout",
     "output_type": "stream",
     "text": [
      "Enter the genre:  Comedy\n"
     ]
    },
    {
     "name": "stdout",
     "output_type": "stream",
     "text": [
      "Top 10 cult-classic movies in the 'Comedy' genre:\n",
      "22104                                   One Night Only\n",
      "21184                                    Heavy Weather\n",
      "9950                           Chilly Scenes of Winter\n",
      "17142                                        The Guide\n",
      "167                                           Reckless\n",
      "16500                                A Ticklish Affair\n",
      "30257                          Nick Swardson: Taste It\n",
      "30255    Christopher Titus: Angry Pursuit of Happiness\n",
      "20845                                   The Little Hut\n",
      "16440                                    Growing Pains\n",
      "Name: title, dtype: object\n"
     ]
    }
   ],
   "source": [
    "# Test the get_cult_classic_recommendations function\n",
    "genre = input(\"Enter the genre: \")\n",
    "num_recommendations = 10\n",
    "\n",
    "try:\n",
    "    recommended_movies = get_cult_classic_recommendations(genre, num_recommendations=num_recommendations)\n",
    "    print(f\"Top {num_recommendations} cult-classic movies in the '{genre}' genre:\")\n",
    "    print(recommended_movies)\n",
    "except Exception as e:\n",
    "    print(e)"
   ]
  },
  {
   "cell_type": "markdown",
   "id": "282f580c-c843-456f-9d23-aff48bde2c30",
   "metadata": {},
   "source": [
    "**Analyze factors that correlate with the highest ROI (Revenue/Budget)**"
   ]
  },
  {
   "cell_type": "code",
   "execution_count": 14,
   "id": "5d25bb44-a651-463d-ac85-aa011534e111",
   "metadata": {},
   "outputs": [
    {
     "data": {
      "image/png": "[encoded data removed]",
      "text/plain": [
       "<Figure size 1200x600 with 2 Axes>"
      ]
     },
     "metadata": {},
     "output_type": "display_data"
    }
   ],
   "source": [
    "# Calculate the ROI\n",
    "data['ROI'] = data['revenue'] / data['budget']\n",
    "\n",
    "# Plot a heatmap of the correlation matrix\n",
    "plt.figure(figsize=(12, 6))\n",
    "sns.heatmap(data.corr(), annot=True, cmap='coolwarm')\n",
    "plt.show()"
   ]
  },
  {
   "attachments": {},
   "cell_type": "markdown",
   "id": "5fb21ea0-c292-4795-9b47-09578f374a51",
   "metadata": {},
   "source": [
    "#### Analysis\n",
    "\n",
    "We find that **budget** and **revenue** have a very high correlation at a factor of 0.77. This is not surprising since movie budgets also include marketing expenses and the cost of putting the movie in theatres.\n",
    "\n",
    "Then, it is also not surprising to find that **revenue** is highly correlated with **vote count** at 0.82, since the more people who see a movie, the more people that will vote on its popularity.\n",
    "\n",
    "It is interesting that the **budget** (0.45) and **revenue** (0.51) are only mildly correlated with **popularity**. This means that high budget movies can get people to the theatre, but there is also a decent chance of flopping."
   ]
  },
  {
   "cell_type": "markdown",
   "id": "bf999d8f-13e5-475f-bc48-3953baf35174",
   "metadata": {},
   "source": [
    "**Machine learning**"
   ]
  },
  {
   "cell_type": "code",
   "execution_count": 22,
   "id": "e465aed3-85be-40b6-9d1f-1547edadd96d",
   "metadata": {},
   "outputs": [],
   "source": [
    "# Select the features and target\n",
    "features = ['budget', 'popularity', 'runtime']\n",
    "target = 'revenue'"
   ]
  },
  {
   "cell_type": "code",
   "execution_count": 23,
   "id": "89f7a5df-a1cc-4274-8920-bb9ec362bf9e",
   "metadata": {},
   "outputs": [],
   "source": [
    "# Remove rows with missing values\n",
    "data = data.dropna(subset=features + [target])"
   ]
  },
  {
   "cell_type": "code",
   "execution_count": 24,
   "id": "902ef147-2504-4577-a5c2-f0292106ad58",
   "metadata": {},
   "outputs": [],
   "source": [
    "X = data[features]\n",
    "y = data[target]\n",
    "# Split the data into training and testing sets\n",
    "X_train, X_test, y_train, y_test = train_test_split(X, y, test_size=0.2, random_state=42)"
   ]
  },
  {
   "cell_type": "code",
   "execution_count": 25,
   "id": "291d6a35-011c-4617-8df8-6352c58f63de",
   "metadata": {},
   "outputs": [],
   "source": [
    "# Create pipelines for both models\n",
    "svr_pipeline = Pipeline([\n",
    "    ('scaler', StandardScaler()),\n",
    "    ('model', SVR(kernel='linear'))\n",
    "])\n",
    "\n",
    "gbr_pipeline = Pipeline([\n",
    "    ('scaler', StandardScaler()),\n",
    "    ('model', GradientBoostingRegressor(random_state=42))\n",
    "])"
   ]
  },
  {
   "cell_type": "code",
   "execution_count": 26,
   "id": "5cbf4ef1-e4c4-4e36-9ee2-74bf44794cf2",
   "metadata": {},
   "outputs": [
    {
     "data": {
      "text/plain": [
       "Pipeline(steps=[('scaler', StandardScaler()),\n",
       "                ('model', GradientBoostingRegressor(random_state=42))])"
      ]
     },
     "execution_count": 26,
     "metadata": {},
     "output_type": "execute_result"
    }
   ],
   "source": [
    "# Fit both models to the training data\n",
    "svr_pipeline.fit(X_train, y_train)\n",
    "gbr_pipeline.fit(X_train, y_train)"
   ]
  },
  {
   "cell_type": "code",
   "execution_count": 27,
   "id": "73523672-44bb-4e23-b817-32031c38f60c",
   "metadata": {},
   "outputs": [
    {
     "name": "stdout",
     "output_type": "stream",
     "text": [
      "Support Vector Regression - Mean Squared Error: 6326588853810607.0\n",
      "Gradient Boosting Regressor - Mean Squared Error: 1940415757368073.2\n",
      "Support Vector Regression - R2 Score: -0.03932925394053299\n",
      "Gradient Boosting Regressor - R2 Score: 0.6812293468027238\n"
     ]
    }
   ],
   "source": [
    "# Evaluate the models using testing data\n",
    "svr_predictions = svr_pipeline.predict(X_test)\n",
    "gbr_predictions = gbr_pipeline.predict(X_test)\n",
    "\n",
    "svr_mse = mean_squared_error(y_test, svr_predictions)\n",
    "gbr_mse = mean_squared_error(y_test, gbr_predictions)\n",
    "\n",
    "svr_r2 = r2_score(y_test, svr_predictions)\n",
    "gbr_r2 = r2_score(y_test, gbr_predictions)\n",
    "\n",
    "print(\"Support Vector Regression - Mean Squared Error:\", svr_mse)\n",
    "print(\"Gradient Boosting Regressor - Mean Squared Error:\", gbr_mse)\n",
    "\n",
    "print(\"Support Vector Regression - R2 Score:\", svr_r2)\n",
    "print(\"Gradient Boosting Regressor - R2 Score:\", gbr_r2)"
   ]
  },
  {
   "cell_type": "code",
   "execution_count": 28,
   "id": "d4f89e8d-ce8a-47cb-8ecd-d2fed32b65d3",
   "metadata": {},
   "outputs": [
    {
     "data": {
      "image/png": "[encoded data removed]",
      "text/plain": [
       "<Figure size 640x480 with 1 Axes>"
      ]
     },
     "metadata": {},
     "output_type": "display_data"
    }
   ],
   "source": [
    "# Visualize the predictions\n",
    "plt.scatter(y_test, svr_predictions, alpha=0.5, label=\"Support Vector Regression\")\n",
    "plt.scatter(y_test, gbr_predictions, alpha=0.5, label=\"Gradient Boosting Regressor\")\n",
    "plt.xlabel(\"True Values\")\n",
    "plt.ylabel(\"Predictions\")\n",
    "plt.legend()\n",
    "plt.savefig(\"predictions_comparison.png\")\n",
    "plt.show()"
   ]
  },
  {
   "cell_type": "code",
   "execution_count": 29,
   "id": "5a58188a-d7fb-4cbf-8593-c20bae72325f",
   "metadata": {},
   "outputs": [],
   "source": [
    "# Make predictions using a sample of new data\n",
    "sample_data = X.sample(10, random_state=42)\n",
    "svr_sample_predictions = svr_pipeline.predict(sample_data)\n",
    "gbr_sample_predictions = gbr_pipeline.predict(sample_data)"
   ]
  },
  {
   "cell_type": "code",
   "execution_count": 30,
   "id": "cc02d837-7e47-43ae-9460-1454b4a9a1cf",
   "metadata": {},
   "outputs": [
    {
     "name": "stdout",
     "output_type": "stream",
     "text": [
      "   Support Vector Regression  Gradient Boosting Regressor\n",
      "0                -139.288621                 1.533986e+05\n",
      "1                  48.580518                 1.533986e+05\n",
      "2                -141.490627                 1.533986e+05\n",
      "3                3006.679183                 1.345274e+07\n",
      "4                 -23.871756                 1.533986e+05\n",
      "5                -132.125246                 1.533986e+05\n",
      "6                1158.583008                 1.533986e+05\n",
      "7                 -82.721624                 1.533986e+05\n",
      "8                 235.734721                 1.533986e+05\n",
      "9                 -64.666235                 1.533986e+05\n"
     ]
    }
   ],
   "source": [
    "# Compare the predictions\n",
    "comparison = pd.DataFrame({\"Support Vector Regression\": svr_sample_predictions, \"Gradient Boosting Regressor\": gbr_sample_predictions})\n",
    "print(comparison)"
   ]
  },
  {
   "cell_type": "code",
   "execution_count": null,
   "id": "54677e17-fa08-450a-b3b1-3a7bfe07b734",
   "metadata": {},
   "outputs": [],
   "source": []
  },
  {
   "cell_type": "code",
   "execution_count": 32,
   "id": "a0d9f296-1b5f-4076-86aa-4dcc10f68de0",
   "metadata": {},
   "outputs": [
    {
     "data": {
      "text/html": [
       "<div>\n",
       "<style scoped>\n",
       "    .dataframe tbody tr th:only-of-type {\n",
       "        vertical-align: middle;\n",
       "    }\n",
       "\n",
       "    .dataframe tbody tr th {\n",
       "        vertical-align: top;\n",
       "    }\n",
       "\n",
       "    .dataframe thead th {\n",
       "        text-align: right;\n",
       "    }\n",
       "</style>\n",
       "<table border=\"1\" class=\"dataframe\">\n",
       "  <thead>\n",
       "    <tr style=\"text-align: right;\">\n",
       "      <th></th>\n",
       "      <th>budget</th>\n",
       "      <th>genres</th>\n",
       "      <th>id</th>\n",
       "      <th>original_language</th>\n",
       "      <th>original_title</th>\n",
       "      <th>overview</th>\n",
       "      <th>popularity</th>\n",
       "      <th>production_companies</th>\n",
       "      <th>production_countries</th>\n",
       "      <th>release_date</th>\n",
       "      <th>revenue</th>\n",
       "      <th>runtime</th>\n",
       "      <th>status</th>\n",
       "      <th>tagline</th>\n",
       "      <th>title</th>\n",
       "      <th>vote_average</th>\n",
       "      <th>vote_count</th>\n",
       "    </tr>\n",
       "  </thead>\n",
       "  <tbody>\n",
       "    <tr>\n",
       "      <th>0</th>\n",
       "      <td>30000000</td>\n",
       "      <td>[{'id': 16, 'name': 'Animation'}, {'id': 35, '...</td>\n",
       "      <td>862</td>\n",
       "      <td>en</td>\n",
       "      <td>Toy Story</td>\n",
       "      <td>Led by Woody, Andy's toys live happily in his ...</td>\n",
       "      <td>21.946943</td>\n",
       "      <td>[{'name': 'Pixar Animation Studios', 'id': 3}]</td>\n",
       "      <td>[{'iso_3166_1': 'US', 'name': 'United States o...</td>\n",
       "      <td>1995-10-30</td>\n",
       "      <td>373554033</td>\n",
       "      <td>81.0</td>\n",
       "      <td>Released</td>\n",
       "      <td>NaN</td>\n",
       "      <td>Toy Story</td>\n",
       "      <td>7.7</td>\n",
       "      <td>5415</td>\n",
       "    </tr>\n",
       "    <tr>\n",
       "      <th>1</th>\n",
       "      <td>65000000</td>\n",
       "      <td>[{'id': 12, 'name': 'Adventure'}, {'id': 14, '...</td>\n",
       "      <td>8844</td>\n",
       "      <td>en</td>\n",
       "      <td>Jumanji</td>\n",
       "      <td>When siblings Judy and Peter discover an encha...</td>\n",
       "      <td>17.015539</td>\n",
       "      <td>[{'name': 'TriStar Pictures', 'id': 559}, {'na...</td>\n",
       "      <td>[{'iso_3166_1': 'US', 'name': 'United States o...</td>\n",
       "      <td>1995-12-15</td>\n",
       "      <td>262797249</td>\n",
       "      <td>104.0</td>\n",
       "      <td>Released</td>\n",
       "      <td>Roll the dice and unleash the excitement!</td>\n",
       "      <td>Jumanji</td>\n",
       "      <td>6.9</td>\n",
       "      <td>2413</td>\n",
       "    </tr>\n",
       "    <tr>\n",
       "      <th>2</th>\n",
       "      <td>0</td>\n",
       "      <td>[{'id': 10749, 'name': 'Romance'}, {'id': 35, ...</td>\n",
       "      <td>15602</td>\n",
       "      <td>en</td>\n",
       "      <td>Grumpier Old Men</td>\n",
       "      <td>A family wedding reignites the ancient feud be...</td>\n",
       "      <td>11.712900</td>\n",
       "      <td>[{'name': 'Warner Bros.', 'id': 6194}, {'name'...</td>\n",
       "      <td>[{'iso_3166_1': 'US', 'name': 'United States o...</td>\n",
       "      <td>1995-12-22</td>\n",
       "      <td>0</td>\n",
       "      <td>101.0</td>\n",
       "      <td>Released</td>\n",
       "      <td>Still Yelling. Still Fighting. Still Ready for...</td>\n",
       "      <td>Grumpier Old Men</td>\n",
       "      <td>6.5</td>\n",
       "      <td>92</td>\n",
       "    </tr>\n",
       "    <tr>\n",
       "      <th>3</th>\n",
       "      <td>16000000</td>\n",
       "      <td>[{'id': 35, 'name': 'Comedy'}, {'id': 18, 'nam...</td>\n",
       "      <td>31357</td>\n",
       "      <td>en</td>\n",
       "      <td>Waiting to Exhale</td>\n",
       "      <td>Cheated on, mistreated and stepped on, the wom...</td>\n",
       "      <td>3.859495</td>\n",
       "      <td>[{'name': 'Twentieth Century Fox Film Corporat...</td>\n",
       "      <td>[{'iso_3166_1': 'US', 'name': 'United States o...</td>\n",
       "      <td>1995-12-22</td>\n",
       "      <td>81452156</td>\n",
       "      <td>127.0</td>\n",
       "      <td>Released</td>\n",
       "      <td>Friends are the people who let you be yourself...</td>\n",
       "      <td>Waiting to Exhale</td>\n",
       "      <td>6.1</td>\n",
       "      <td>34</td>\n",
       "    </tr>\n",
       "    <tr>\n",
       "      <th>4</th>\n",
       "      <td>0</td>\n",
       "      <td>[{'id': 35, 'name': 'Comedy'}]</td>\n",
       "      <td>11862</td>\n",
       "      <td>en</td>\n",
       "      <td>Father of the Bride Part II</td>\n",
       "      <td>Just when George Banks has recovered from his ...</td>\n",
       "      <td>8.387519</td>\n",
       "      <td>[{'name': 'Sandollar Productions', 'id': 5842}...</td>\n",
       "      <td>[{'iso_3166_1': 'US', 'name': 'United States o...</td>\n",
       "      <td>1995-02-10</td>\n",
       "      <td>76578911</td>\n",
       "      <td>106.0</td>\n",
       "      <td>Released</td>\n",
       "      <td>Just When His World Is Back To Normal... He's ...</td>\n",
       "      <td>Father of the Bride Part II</td>\n",
       "      <td>5.7</td>\n",
       "      <td>173</td>\n",
       "    </tr>\n",
       "    <tr>\n",
       "      <th>...</th>\n",
       "      <td>...</td>\n",
       "      <td>...</td>\n",
       "      <td>...</td>\n",
       "      <td>...</td>\n",
       "      <td>...</td>\n",
       "      <td>...</td>\n",
       "      <td>...</td>\n",
       "      <td>...</td>\n",
       "      <td>...</td>\n",
       "      <td>...</td>\n",
       "      <td>...</td>\n",
       "      <td>...</td>\n",
       "      <td>...</td>\n",
       "      <td>...</td>\n",
       "      <td>...</td>\n",
       "      <td>...</td>\n",
       "      <td>...</td>\n",
       "    </tr>\n",
       "    <tr>\n",
       "      <th>31947</th>\n",
       "      <td>0</td>\n",
       "      <td>[{'id': 878, 'name': 'Science Fiction'}]</td>\n",
       "      <td>222848</td>\n",
       "      <td>en</td>\n",
       "      <td>Caged Heat 3000</td>\n",
       "      <td>It's the year 3000 AD. The world's most danger...</td>\n",
       "      <td>0.661558</td>\n",
       "      <td>[{'name': 'Concorde-New Horizons', 'id': 4688}]</td>\n",
       "      <td>[{'iso_3166_1': 'US', 'name': 'United States o...</td>\n",
       "      <td>1995-01-01</td>\n",
       "      <td>0</td>\n",
       "      <td>85.0</td>\n",
       "      <td>Released</td>\n",
       "      <td>NaN</td>\n",
       "      <td>Caged Heat 3000</td>\n",
       "      <td>3.5</td>\n",
       "      <td>1</td>\n",
       "    </tr>\n",
       "    <tr>\n",
       "      <th>31948</th>\n",
       "      <td>0</td>\n",
       "      <td>[{'id': 18, 'name': 'Drama'}, {'id': 28, 'name...</td>\n",
       "      <td>30840</td>\n",
       "      <td>en</td>\n",
       "      <td>Robin Hood</td>\n",
       "      <td>Yet another version of the classic epic, with ...</td>\n",
       "      <td>5.683753</td>\n",
       "      <td>[{'name': 'Westdeutscher Rundfunk (WDR)', 'id'...</td>\n",
       "      <td>[{'iso_3166_1': 'CA', 'name': 'Canada'}, {'iso...</td>\n",
       "      <td>1991-05-13</td>\n",
       "      <td>0</td>\n",
       "      <td>104.0</td>\n",
       "      <td>Released</td>\n",
       "      <td>NaN</td>\n",
       "      <td>Robin Hood</td>\n",
       "      <td>5.7</td>\n",
       "      <td>26</td>\n",
       "    </tr>\n",
       "    <tr>\n",
       "      <th>31949</th>\n",
       "      <td>0</td>\n",
       "      <td>[{'id': 28, 'name': 'Action'}, {'id': 18, 'nam...</td>\n",
       "      <td>67758</td>\n",
       "      <td>en</td>\n",
       "      <td>Betrayal</td>\n",
       "      <td>When one of her hits goes wrong, a professiona...</td>\n",
       "      <td>0.903007</td>\n",
       "      <td>[{'name': 'American World Pictures', 'id': 6165}]</td>\n",
       "      <td>[{'iso_3166_1': 'US', 'name': 'United States o...</td>\n",
       "      <td>2003-08-01</td>\n",
       "      <td>0</td>\n",
       "      <td>90.0</td>\n",
       "      <td>Released</td>\n",
       "      <td>A deadly game of wits.</td>\n",
       "      <td>Betrayal</td>\n",
       "      <td>3.8</td>\n",
       "      <td>6</td>\n",
       "    </tr>\n",
       "    <tr>\n",
       "      <th>31950</th>\n",
       "      <td>0</td>\n",
       "      <td>[]</td>\n",
       "      <td>227506</td>\n",
       "      <td>en</td>\n",
       "      <td>Satana likuyushchiy</td>\n",
       "      <td>In a small town live two brothers, one a minis...</td>\n",
       "      <td>0.003503</td>\n",
       "      <td>[{'name': 'Yermoliev', 'id': 88753}]</td>\n",
       "      <td>[{'iso_3166_1': 'RU', 'name': 'Russia'}]</td>\n",
       "      <td>1917-10-21</td>\n",
       "      <td>0</td>\n",
       "      <td>87.0</td>\n",
       "      <td>Released</td>\n",
       "      <td>NaN</td>\n",
       "      <td>Satan Triumphant</td>\n",
       "      <td>0.0</td>\n",
       "      <td>0</td>\n",
       "    </tr>\n",
       "    <tr>\n",
       "      <th>31951</th>\n",
       "      <td>0</td>\n",
       "      <td>[]</td>\n",
       "      <td>461257</td>\n",
       "      <td>en</td>\n",
       "      <td>Queerama</td>\n",
       "      <td>50 years after decriminalisation of homosexual...</td>\n",
       "      <td>0.163015</td>\n",
       "      <td>[]</td>\n",
       "      <td>[{'iso_3166_1': 'GB', 'name': 'United Kingdom'}]</td>\n",
       "      <td>2017-06-09</td>\n",
       "      <td>0</td>\n",
       "      <td>75.0</td>\n",
       "      <td>Released</td>\n",
       "      <td>NaN</td>\n",
       "      <td>Queerama</td>\n",
       "      <td>0.0</td>\n",
       "      <td>0</td>\n",
       "    </tr>\n",
       "  </tbody>\n",
       "</table>\n",
       "<p>31946 rows × 17 columns</p>\n",
       "</div>"
      ],
      "text/plain": [
       "         budget                                             genres      id  \\\n",
       "0      30000000  [{'id': 16, 'name': 'Animation'}, {'id': 35, '...     862   \n",
       "1      65000000  [{'id': 12, 'name': 'Adventure'}, {'id': 14, '...    8844   \n",
       "2             0  [{'id': 10749, 'name': 'Romance'}, {'id': 35, ...   15602   \n",
       "3      16000000  [{'id': 35, 'name': 'Comedy'}, {'id': 18, 'nam...   31357   \n",
       "4             0                     [{'id': 35, 'name': 'Comedy'}]   11862   \n",
       "...         ...                                                ...     ...   \n",
       "31947         0           [{'id': 878, 'name': 'Science Fiction'}]  222848   \n",
       "31948         0  [{'id': 18, 'name': 'Drama'}, {'id': 28, 'name...   30840   \n",
       "31949         0  [{'id': 28, 'name': 'Action'}, {'id': 18, 'nam...   67758   \n",
       "31950         0                                                 []  227506   \n",
       "31951         0                                                 []  461257   \n",
       "\n",
       "      original_language               original_title  \\\n",
       "0                    en                    Toy Story   \n",
       "1                    en                      Jumanji   \n",
       "2                    en             Grumpier Old Men   \n",
       "3                    en            Waiting to Exhale   \n",
       "4                    en  Father of the Bride Part II   \n",
       "...                 ...                          ...   \n",
       "31947                en              Caged Heat 3000   \n",
       "31948                en                   Robin Hood   \n",
       "31949                en                     Betrayal   \n",
       "31950                en          Satana likuyushchiy   \n",
       "31951                en                     Queerama   \n",
       "\n",
       "                                                overview  popularity  \\\n",
       "0      Led by Woody, Andy's toys live happily in his ...   21.946943   \n",
       "1      When siblings Judy and Peter discover an encha...   17.015539   \n",
       "2      A family wedding reignites the ancient feud be...   11.712900   \n",
       "3      Cheated on, mistreated and stepped on, the wom...    3.859495   \n",
       "4      Just when George Banks has recovered from his ...    8.387519   \n",
       "...                                                  ...         ...   \n",
       "31947  It's the year 3000 AD. The world's most danger...    0.661558   \n",
       "31948  Yet another version of the classic epic, with ...    5.683753   \n",
       "31949  When one of her hits goes wrong, a professiona...    0.903007   \n",
       "31950  In a small town live two brothers, one a minis...    0.003503   \n",
       "31951  50 years after decriminalisation of homosexual...    0.163015   \n",
       "\n",
       "                                    production_companies  \\\n",
       "0         [{'name': 'Pixar Animation Studios', 'id': 3}]   \n",
       "1      [{'name': 'TriStar Pictures', 'id': 559}, {'na...   \n",
       "2      [{'name': 'Warner Bros.', 'id': 6194}, {'name'...   \n",
       "3      [{'name': 'Twentieth Century Fox Film Corporat...   \n",
       "4      [{'name': 'Sandollar Productions', 'id': 5842}...   \n",
       "...                                                  ...   \n",
       "31947    [{'name': 'Concorde-New Horizons', 'id': 4688}]   \n",
       "31948  [{'name': 'Westdeutscher Rundfunk (WDR)', 'id'...   \n",
       "31949  [{'name': 'American World Pictures', 'id': 6165}]   \n",
       "31950               [{'name': 'Yermoliev', 'id': 88753}]   \n",
       "31951                                                 []   \n",
       "\n",
       "                                    production_countries release_date  \\\n",
       "0      [{'iso_3166_1': 'US', 'name': 'United States o...   1995-10-30   \n",
       "1      [{'iso_3166_1': 'US', 'name': 'United States o...   1995-12-15   \n",
       "2      [{'iso_3166_1': 'US', 'name': 'United States o...   1995-12-22   \n",
       "3      [{'iso_3166_1': 'US', 'name': 'United States o...   1995-12-22   \n",
       "4      [{'iso_3166_1': 'US', 'name': 'United States o...   1995-02-10   \n",
       "...                                                  ...          ...   \n",
       "31947  [{'iso_3166_1': 'US', 'name': 'United States o...   1995-01-01   \n",
       "31948  [{'iso_3166_1': 'CA', 'name': 'Canada'}, {'iso...   1991-05-13   \n",
       "31949  [{'iso_3166_1': 'US', 'name': 'United States o...   2003-08-01   \n",
       "31950           [{'iso_3166_1': 'RU', 'name': 'Russia'}]   1917-10-21   \n",
       "31951   [{'iso_3166_1': 'GB', 'name': 'United Kingdom'}]   2017-06-09   \n",
       "\n",
       "         revenue  runtime    status  \\\n",
       "0      373554033     81.0  Released   \n",
       "1      262797249    104.0  Released   \n",
       "2              0    101.0  Released   \n",
       "3       81452156    127.0  Released   \n",
       "4       76578911    106.0  Released   \n",
       "...          ...      ...       ...   \n",
       "31947          0     85.0  Released   \n",
       "31948          0    104.0  Released   \n",
       "31949          0     90.0  Released   \n",
       "31950          0     87.0  Released   \n",
       "31951          0     75.0  Released   \n",
       "\n",
       "                                                 tagline  \\\n",
       "0                                                    NaN   \n",
       "1              Roll the dice and unleash the excitement!   \n",
       "2      Still Yelling. Still Fighting. Still Ready for...   \n",
       "3      Friends are the people who let you be yourself...   \n",
       "4      Just When His World Is Back To Normal... He's ...   \n",
       "...                                                  ...   \n",
       "31947                                                NaN   \n",
       "31948                                                NaN   \n",
       "31949                             A deadly game of wits.   \n",
       "31950                                                NaN   \n",
       "31951                                                NaN   \n",
       "\n",
       "                             title  vote_average  vote_count  \n",
       "0                        Toy Story           7.7        5415  \n",
       "1                          Jumanji           6.9        2413  \n",
       "2                 Grumpier Old Men           6.5          92  \n",
       "3                Waiting to Exhale           6.1          34  \n",
       "4      Father of the Bride Part II           5.7         173  \n",
       "...                            ...           ...         ...  \n",
       "31947              Caged Heat 3000           3.5           1  \n",
       "31948                   Robin Hood           5.7          26  \n",
       "31949                     Betrayal           3.8           6  \n",
       "31950             Satan Triumphant           0.0           0  \n",
       "31951                     Queerama           0.0           0  \n",
       "\n",
       "[31946 rows x 17 columns]"
      ]
     },
     "execution_count": 32,
     "metadata": {},
     "output_type": "execute_result"
    }
   ],
   "source": [
    "data"
   ]
  },
  {
   "cell_type": "code",
   "execution_count": null,
   "id": "1f402468-922c-4da0-a71e-26c8f4d69713",
   "metadata": {},
   "outputs": [],
   "source": []
  }
 ],
 "metadata": {
  "kernelspec": {
   "display_name": "Python 3 (ipykernel)",
   "language": "python",
   "name": "python3"
  },
  "language_info": {
   "codemirror_mode": {
    "name": "ipython",
    "version": 3
   },
   "file_extension": ".py",
   "mimetype": "text/x-python",
   "name": "python",
   "nbconvert_exporter": "python",
   "pygments_lexer": "ipython3",
   "version": "3.7.15"
  }
 },
 "nbformat": 4,
 "nbformat_minor": 5
}
