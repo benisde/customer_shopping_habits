{
 "cells": [
  {
   "cell_type": "code",
   "execution_count": 10,
   "id": "9be323da-0290-4b92-96ec-4a87285938b9",
   "metadata": {},
   "outputs": [],
   "source": [
    "#Import necessary libraries:\n",
    "import pandas as pd\n",
    "import numpy as np\n",
    "import matplotlib.pyplot as plt\n",
    "import seaborn as sns\n",
    "from sklearn.feature_extraction.text import TfidfVectorizer\n",
    "from sklearn.metrics.pairwise import linear_kernel\n",
    "from sklearn.preprocessing import MinMaxScaler"
   ]
  },
  {
   "cell_type": "code",
   "execution_count": 11,
   "id": "47a1d8e0-2e97-4670-b820-1e26227ab869",
   "metadata": {},
   "outputs": [],
   "source": [
    "#load dataset\n",
    "movies_df = pd.read_csv('resources/movies_metadata.csv')"
   ]
  },
  {
   "cell_type": "code",
   "execution_count": 12,
   "id": "9da84fb4-2e88-450e-b3bb-674cdddb2bee",
   "metadata": {},
   "outputs": [],
   "source": [
    "# Convert release_date to datetime\n",
    "movies_df['release_date'] = pd.to_datetime(movies_df['release_date'])\n",
    "\n",
    "# Drop irrelevant columns\n",
    "movies_df.drop(['id', 'production_companies', 'production_countries', 'status'], axis=1, inplace=True)\n",
    "\n",
    "# Fill missing values\n",
    "movies_df['tagline'].fillna('', inplace=True)\n",
    "movies_df['overview'].fillna('', inplace=True)"
   ]
  },
  {
   "cell_type": "code",
   "execution_count": 13,
   "id": "669c8604-99e9-4656-a23a-32f10443d2ce",
   "metadata": {},
   "outputs": [
    {
     "name": "stdin",
     "output_type": "stream",
     "text": [
      "Enter the genre you'd like to explore:  Action\n"
     ]
    },
    {
     "name": "stdout",
     "output_type": "stream",
     "text": [
      "Recommended movies based on genre:\n",
      "24781                                        Wonder Woman\n",
      "30939                                         Baby Driver\n",
      "18693                                          Big Hero 6\n",
      "20283                                            Deadpool\n",
      "20284                      Guardians of the Galaxy Vol. 2\n",
      "11707                                              Avatar\n",
      "18612                                           John Wick\n",
      "20285                          Captain America: Civil War\n",
      "20280    Pirates of the Caribbean: Dead Men Tell No Tales\n",
      "10204                                     The Dark Knight\n",
      "Name: title, dtype: object\n"
     ]
    }
   ],
   "source": [
    "#Recommendation based on genre:\n",
    "def genre_based_recommendations(genre):\n",
    "    return movies_df[movies_df['genres'].str.contains(genre, na=False)].nlargest(10, 'popularity')['title']\n",
    "\n",
    "genre = input(\"Enter the genre you'd like to explore: \")\n",
    "recommendations = genre_based_recommendations(genre)\n",
    "print(\"Recommended movies based on genre:\")\n",
    "print(recommendations)"
   ]
  },
  {
   "cell_type": "code",
   "execution_count": null,
   "id": "e708bf7f-268b-4b57-932a-081dd12fc056",
   "metadata": {},
   "outputs": [],
   "source": []
  }
 ],
 "metadata": {
  "kernelspec": {
   "display_name": "Python 3 (ipykernel)",
   "language": "python",
   "name": "python3"
  },
  "language_info": {
   "codemirror_mode": {
    "name": "ipython",
    "version": 3
   },
   "file_extension": ".py",
   "mimetype": "text/x-python",
   "name": "python",
   "nbconvert_exporter": "python",
   "pygments_lexer": "ipython3",
   "version": "3.7.15"
  }
 },
 "nbformat": 4,
 "nbformat_minor": 5
}
